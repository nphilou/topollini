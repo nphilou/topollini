{
 "cells": [
  {
   "cell_type": "code",
   "execution_count": null,
   "metadata": {},
   "outputs": [],
   "source": [
    "xy = []\n",
    "for x in range(2, 50):\n",
    "    # Condition 1\n",
    "    for y in range(x+1, 99):\n",
    "        # Condition 2\n",
    "        if x+y <= 100:\n",
    "            xy.append((x, y))"
   ]
  },
  {
   "cell_type": "code",
   "execution_count": null,
   "metadata": {},
   "outputs": [],
   "source": [
    "from collections import Counter\n",
    "\n",
    "# Info 1\n",
    "p = Counter([x*y for (x, y) in xy])\n",
    "unique_p = [key for key, value in p.items() if value == 1]\n",
    "xy_1 = [(x, y) for (x, y) in xy if x*y not in unique_p]"
   ]
  },
  {
   "cell_type": "code",
   "execution_count": null,
   "metadata": {},
   "outputs": [],
   "source": [
    "# Info 2\n",
    "xy_unique_p = [(x, y) for (x, y) in xy if x*y in unique_p]\n",
    "\n",
    "s_xy_unique_p = [x+y for (x, y) in xy_unique_p]\n",
    "x2 = [(x, y) for (x, y) in xy if x+y not in s_xy_unique_p]"
   ]
  },
  {
   "cell_type": "code",
   "execution_count": null,
   "metadata": {},
   "outputs": [],
   "source": [
    "# Info 3\n",
    "p3 = Counter([x*y for (x, y) in x2])\n",
    "unique_p3 = [key for key, value in p3.items() if value == 1]\n",
    "x3 = [(x, y) for (x, y) in x2 if x*y in unique_p3]"
   ]
  },
  {
   "cell_type": "code",
   "execution_count": null,
   "metadata": {},
   "outputs": [],
   "source": [
    "# Info 4\n",
    "s4 = Counter([x+y for (x, y) in x3])\n",
    "uniques_s4 = [key for key, value in s4.items() if value == 1]\n",
    "x4 = [(x, y) for (x, y) in x3 if x+y in uniques_s4]\n",
    "x4"
   ]
  }
 ],
 "metadata": {
  "kernelspec": {
   "display_name": "topollini",
   "language": "python",
   "name": "topollini"
  },
  "language_info": {
   "codemirror_mode": {
    "name": "ipython",
    "version": 3
   },
   "file_extension": ".py",
   "mimetype": "text/x-python",
   "name": "python",
   "nbconvert_exporter": "python",
   "pygments_lexer": "ipython3",
   "version": "3.7.3"
  },
  "toc": {
   "base_numbering": 1,
   "nav_menu": {},
   "number_sections": true,
   "sideBar": true,
   "skip_h1_title": false,
   "title_cell": "Table of Contents",
   "title_sidebar": "Contents",
   "toc_cell": false,
   "toc_position": {},
   "toc_section_display": true,
   "toc_window_display": false
  }
 },
 "nbformat": 4,
 "nbformat_minor": 2
}
