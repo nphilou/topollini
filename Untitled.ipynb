{
 "cells": [
  {
   "cell_type": "code",
   "execution_count": 1,
   "metadata": {
    "ExecuteTime": {
     "end_time": "2019-11-20T15:13:37.996174Z",
     "start_time": "2019-11-20T15:13:35.502254Z"
    }
   },
   "outputs": [],
   "source": [
    "import numpy as np\n",
    "import pandas as pd\n",
    "from tsfresh import extract_features\n",
    "from sklearn.model_selection import train_test_split\n",
    "from sklearn.metrics import confusion_matrix, cohen_kappa_score\n",
    "from sklearn.linear_model import LogisticRegression, SGDClassifier\n",
    "from sklearn.svm import SVC\n",
    "from sklearn.naive_bayes import GaussianNB\n",
    "from sklearn.neural_network import MLPClassifier\n",
    "from sklearn.neighbors import KNeighborsClassifier\n",
    "from sklearn.ensemble import RandomForestClassifier\n",
    "from tsfresh import select_features\n",
    "from tsfresh.utilities.dataframe_functions import impute\n",
    "import matplotlib.pyplot as plt"
   ]
  },
  {
   "cell_type": "code",
   "execution_count": 2,
   "metadata": {
    "ExecuteTime": {
     "end_time": "2019-11-20T15:14:18.161137Z",
     "start_time": "2019-11-20T15:14:16.948661Z"
    }
   },
   "outputs": [],
   "source": [
    "x = pd.read_csv('training_un7FCmp.csv')\n",
    "y = pd.read_csv('target_ATndViR.csv')\n",
    "xy = x.merge(y, on='ID')\n",
    "xtest = pd.read_csv('input_test_YW07KeM.csv')\n",
    "\n",
    "npx = x.values\n",
    "npy = y.values\n",
    "\n",
    "intervals = npx[:,3:] - npx[:,2:-1]\n",
    "df_intervals = pd.DataFrame(data=intervals, columns=pd.Index(['interval_%s' % n for n in range(49)])).stack().reset_index().rename(columns={'level_0':'id', 'level_1': 'time', 0:'x'})"
   ]
  },
  {
   "cell_type": "code",
   "execution_count": 64,
   "metadata": {
    "ExecuteTime": {
     "end_time": "2019-11-08T09:09:29.076088Z",
     "start_time": "2019-11-08T09:09:29.071824Z"
    }
   },
   "outputs": [],
   "source": [
    "df_inter_unmelted = pd.DataFrame(data=intervals, columns=pd.Index(['interval_%s' % n for n in range(49)]))"
   ]
  },
  {
   "cell_type": "code",
   "execution_count": 8,
   "metadata": {
    "ExecuteTime": {
     "end_time": "2019-11-08T08:29:07.754161Z",
     "start_time": "2019-11-08T08:29:07.736513Z"
    },
    "collapsed": true
   },
   "outputs": [
    {
     "data": {
      "text/plain": [
       "array([[           nan, 4.25827667e-03, 5.85118000e-03, ...,\n",
       "        7.24981737e-03, 2.38868497e-02, 3.64153380e-02],\n",
       "       [           nan, 8.03823756e-02, 2.79503912e-02, ...,\n",
       "        2.54981757e-01, 7.40625042e-02, 7.13530978e-02],\n",
       "       [           nan, 5.26874239e-01, 1.62345944e-01, ...,\n",
       "        6.76909861e-02, 1.87516137e+00, 2.00009457e-01],\n",
       "       ...,\n",
       "       [           nan, 7.71521446e-02, 1.28464817e+00, ...,\n",
       "        6.86234481e-02, 1.38995628e-01, 1.37173940e-01],\n",
       "       [           nan, 4.83055694e+00, 1.21014268e+00, ...,\n",
       "        1.26055238e+00, 3.37813612e+00, 5.10219975e+00],\n",
       "       [           nan, 3.00355965e-01, 6.90994928e-02, ...,\n",
       "        1.47138557e-01, 2.94403043e-02, 3.21747791e+00]])"
      ]
     },
     "execution_count": 8,
     "metadata": {},
     "output_type": "execute_result"
    }
   ],
   "source": [
    "np.array(x.drop(['ID', 'neuron_id'], axis=1).diff(axis=1))"
   ]
  },
  {
   "cell_type": "code",
   "execution_count": 3,
   "metadata": {
    "ExecuteTime": {
     "end_time": "2019-11-20T15:18:41.747062Z",
     "start_time": "2019-11-20T15:18:41.621484Z"
    }
   },
   "outputs": [],
   "source": [
    "npx_test = xtest.values\n",
    "intervals_test = npx_test[:,3:] - npx_test[:,2:-1]\n",
    "df_intervals_test = pd.DataFrame(data=intervals_test, columns=pd.Index(['interval_%s' % n for n in range(49)])).stack().reset_index().rename(columns={'level_0':'id', 'level_1': 'time', 0:'x'})"
   ]
  },
  {
   "cell_type": "code",
   "execution_count": 4,
   "metadata": {
    "ExecuteTime": {
     "end_time": "2019-11-20T15:24:28.575624Z",
     "start_time": "2019-11-20T15:18:48.337111Z"
    }
   },
   "outputs": [
    {
     "name": "stderr",
     "output_type": "stream",
     "text": [
      "Feature Extraction: 100%|██████████| 40/40 [05:01<00:00,  7.54s/it]\n"
     ]
    }
   ],
   "source": [
    "extracted_features = extract_features(df_intervals_test, column_id=\"id\", column_sort=\"time\", n_jobs=8)"
   ]
  },
  {
   "cell_type": "code",
   "execution_count": 9,
   "metadata": {
    "ExecuteTime": {
     "end_time": "2019-11-20T15:25:44.711266Z",
     "start_time": "2019-11-20T15:25:44.706922Z"
    }
   },
   "outputs": [
    {
     "data": {
      "text/plain": [
       "Index(['x__abs_energy', 'x__absolute_sum_of_changes',\n",
       "       'x__agg_autocorrelation__f_agg_\"mean\"__maxlag_40',\n",
       "       'x__agg_autocorrelation__f_agg_\"median\"__maxlag_40',\n",
       "       'x__agg_autocorrelation__f_agg_\"var\"__maxlag_40',\n",
       "       'x__agg_linear_trend__f_agg_\"max\"__chunk_len_10__attr_\"intercept\"',\n",
       "       'x__agg_linear_trend__f_agg_\"max\"__chunk_len_10__attr_\"rvalue\"',\n",
       "       'x__agg_linear_trend__f_agg_\"max\"__chunk_len_10__attr_\"slope\"',\n",
       "       'x__agg_linear_trend__f_agg_\"max\"__chunk_len_10__attr_\"stderr\"',\n",
       "       'x__agg_linear_trend__f_agg_\"max\"__chunk_len_50__attr_\"intercept\"',\n",
       "       ...\n",
       "       'x__symmetry_looking__r_0.9',\n",
       "       'x__symmetry_looking__r_0.9500000000000001',\n",
       "       'x__time_reversal_asymmetry_statistic__lag_1',\n",
       "       'x__time_reversal_asymmetry_statistic__lag_2',\n",
       "       'x__time_reversal_asymmetry_statistic__lag_3',\n",
       "       'x__value_count__value_-1', 'x__value_count__value_0',\n",
       "       'x__value_count__value_1', 'x__variance',\n",
       "       'x__variance_larger_than_standard_deviation'],\n",
       "      dtype='object', name='variable', length=794)"
      ]
     },
     "execution_count": 9,
     "metadata": {},
     "output_type": "execute_result"
    }
   ],
   "source": [
    "extracted_features.columns"
   ]
  },
  {
   "cell_type": "code",
   "execution_count": 11,
   "metadata": {
    "ExecuteTime": {
     "end_time": "2019-11-20T15:28:33.909178Z",
     "start_time": "2019-11-20T15:28:33.889244Z"
    }
   },
   "outputs": [],
   "source": [
    "ff_test = extracted_features[tsfresh_features.columns.values]"
   ]
  },
  {
   "cell_type": "code",
   "execution_count": 14,
   "metadata": {
    "ExecuteTime": {
     "end_time": "2019-11-20T15:29:41.617467Z",
     "start_time": "2019-11-20T15:29:41.572649Z"
    }
   },
   "outputs": [],
   "source": [
    "ff_test.to_pickle(\"tsfresh_features_test.pkl\")"
   ]
  },
  {
   "cell_type": "code",
   "execution_count": null,
   "metadata": {},
   "outputs": [],
   "source": []
  },
  {
   "cell_type": "code",
   "execution_count": null,
   "metadata": {},
   "outputs": [],
   "source": []
  },
  {
   "cell_type": "code",
   "execution_count": 10,
   "metadata": {
    "ExecuteTime": {
     "end_time": "2019-11-20T15:26:15.869832Z",
     "start_time": "2019-11-20T15:26:15.858767Z"
    }
   },
   "outputs": [
    {
     "data": {
      "text/plain": [
       "array(['x__change_quantiles__f_agg_\"var\"__isabs_True__qh_0.8__ql_0.0',\n",
       "       'x__change_quantiles__f_agg_\"var\"__isabs_True__qh_0.8__ql_0.2',\n",
       "       'x__change_quantiles__f_agg_\"var\"__isabs_False__qh_0.8__ql_0.0',\n",
       "       'x__change_quantiles__f_agg_\"var\"__isabs_False__qh_0.8__ql_0.2',\n",
       "       'x__change_quantiles__f_agg_\"mean\"__isabs_True__qh_0.8__ql_0.2',\n",
       "       'x__quantile__q_0.8',\n",
       "       'x__change_quantiles__f_agg_\"mean\"__isabs_True__qh_0.8__ql_0.0',\n",
       "       'x__number_crossing_m__m_1',\n",
       "       'x__change_quantiles__f_agg_\"mean\"__isabs_True__qh_0.8__ql_0.4',\n",
       "       'x__change_quantiles__f_agg_\"var\"__isabs_False__qh_0.8__ql_0.4',\n",
       "       'x__range_count__max_1__min_-1',\n",
       "       'x__change_quantiles__f_agg_\"var\"__isabs_True__qh_0.8__ql_0.4',\n",
       "       'x__ratio_beyond_r_sigma__r_0.5', 'x__quantile__q_0.7',\n",
       "       'x__approximate_entropy__m_2__r_0.9',\n",
       "       'x__approximate_entropy__m_2__r_0.7', 'x__quantile__q_0.9',\n",
       "       'x__quantile__q_0.1',\n",
       "       'x__change_quantiles__f_agg_\"var\"__isabs_True__qh_0.6__ql_0.2',\n",
       "       'x__approximate_entropy__m_2__r_0.5',\n",
       "       'x__change_quantiles__f_agg_\"var\"__isabs_False__qh_0.6__ql_0.2',\n",
       "       'x__skewness',\n",
       "       'x__change_quantiles__f_agg_\"mean\"__isabs_True__qh_1.0__ql_0.0',\n",
       "       'x__mean_abs_change', 'x__absolute_sum_of_changes',\n",
       "       'x__change_quantiles__f_agg_\"var\"__isabs_True__qh_0.6__ql_0.0',\n",
       "       'x__count_below_mean', 'x__count_above_mean',\n",
       "       'x__change_quantiles__f_agg_\"mean\"__isabs_True__qh_0.6__ql_0.2',\n",
       "       'x__kurtosis', 'x__quantile__q_0.6',\n",
       "       'x__longest_strike_below_mean', 'x__quantile__q_0.2',\n",
       "       'x__fft_coefficient__coeff_0__attr_\"abs\"',\n",
       "       'x__fft_coefficient__coeff_0__attr_\"real\"', 'x__mean',\n",
       "       'x__sum_values', 'x__ratio_beyond_r_sigma__r_1',\n",
       "       'x__friedrich_coefficients__m_3__r_30__coeff_3', 'x__minimum',\n",
       "       'x__change_quantiles__f_agg_\"mean\"__isabs_True__qh_1.0__ql_0.2',\n",
       "       'x__agg_linear_trend__f_agg_\"min\"__chunk_len_10__attr_\"intercept\"',\n",
       "       'x__binned_entropy__max_bins_10',\n",
       "       'x__change_quantiles__f_agg_\"var\"__isabs_False__qh_0.6__ql_0.0',\n",
       "       'x__ar_coefficient__k_10__coeff_0', 'x__ratio_beyond_r_sigma__r_5',\n",
       "       'x__cwt_coefficients__widths_(2, 5, 10, 20)__coeff_14__w_20',\n",
       "       'x__large_standard_deviation__r_0.2', 'x__c3__lag_3',\n",
       "       'x__cwt_coefficients__widths_(2, 5, 10, 20)__coeff_13__w_20',\n",
       "       'x__change_quantiles__f_agg_\"mean\"__isabs_True__qh_0.8__ql_0.6',\n",
       "       'x__cwt_coefficients__widths_(2, 5, 10, 20)__coeff_12__w_20',\n",
       "       'x__cwt_coefficients__widths_(2, 5, 10, 20)__coeff_11__w_20',\n",
       "       'x__cwt_coefficients__widths_(2, 5, 10, 20)__coeff_10__w_20',\n",
       "       'x__change_quantiles__f_agg_\"mean\"__isabs_True__qh_0.6__ql_0.0',\n",
       "       'x__symmetry_looking__r_0.1',\n",
       "       'x__cwt_coefficients__widths_(2, 5, 10, 20)__coeff_9__w_20',\n",
       "       'x__agg_linear_trend__f_agg_\"min\"__chunk_len_10__attr_\"stderr\"',\n",
       "       'x__c3__lag_2',\n",
       "       'x__cwt_coefficients__widths_(2, 5, 10, 20)__coeff_8__w_20',\n",
       "       'x__ratio_beyond_r_sigma__r_6',\n",
       "       'x__cwt_coefficients__widths_(2, 5, 10, 20)__coeff_7__w_20',\n",
       "       'x__change_quantiles__f_agg_\"mean\"__isabs_True__qh_0.2__ql_0.0',\n",
       "       'x__cwt_coefficients__widths_(2, 5, 10, 20)__coeff_6__w_20',\n",
       "       'x__ratio_beyond_r_sigma__r_1.5',\n",
       "       'x__cwt_coefficients__widths_(2, 5, 10, 20)__coeff_5__w_20',\n",
       "       'x__approximate_entropy__m_2__r_0.3',\n",
       "       'x__cwt_coefficients__widths_(2, 5, 10, 20)__coeff_4__w_20',\n",
       "       'x__symmetry_looking__r_0.05', 'x__sample_entropy',\n",
       "       'x__cwt_coefficients__widths_(2, 5, 10, 20)__coeff_3__w_20',\n",
       "       'x__cwt_coefficients__widths_(2, 5, 10, 20)__coeff_2__w_20',\n",
       "       'x__large_standard_deviation__r_0.15000000000000002',\n",
       "       'x__change_quantiles__f_agg_\"mean\"__isabs_True__qh_1.0__ql_0.4',\n",
       "       'x__cwt_coefficients__widths_(2, 5, 10, 20)__coeff_1__w_20',\n",
       "       'x__agg_linear_trend__f_agg_\"mean\"__chunk_len_10__attr_\"intercept\"',\n",
       "       'x__cwt_coefficients__widths_(2, 5, 10, 20)__coeff_0__w_20',\n",
       "       'x__agg_linear_trend__f_agg_\"max\"__chunk_len_5__attr_\"intercept\"',\n",
       "       'x__agg_autocorrelation__f_agg_\"var\"__maxlag_40', 'x__abs_energy',\n",
       "       'x__agg_linear_trend__f_agg_\"mean\"__chunk_len_5__attr_\"intercept\"',\n",
       "       'x__quantile__q_0.3', 'x__large_standard_deviation__r_0.25',\n",
       "       'x__c3__lag_1',\n",
       "       'x__change_quantiles__f_agg_\"mean\"__isabs_True__qh_0.6__ql_0.4',\n",
       "       'x__change_quantiles__f_agg_\"var\"__isabs_False__qh_1.0__ql_0.0',\n",
       "       'x__cid_ce__normalize_False',\n",
       "       'x__agg_linear_trend__f_agg_\"min\"__chunk_len_5__attr_\"intercept\"',\n",
       "       'x__energy_ratio_by_chunks__num_segments_10__segment_focus_7',\n",
       "       'x__linear_trend__attr_\"intercept\"', 'x__cid_ce__normalize_True',\n",
       "       'x__agg_linear_trend__f_agg_\"max\"__chunk_len_10__attr_\"intercept\"',\n",
       "       'x__approximate_entropy__m_2__r_0.1', 'x__autocorrelation__lag_1',\n",
       "       'x__partial_autocorrelation__lag_1',\n",
       "       'x__change_quantiles__f_agg_\"var\"__isabs_True__qh_1.0__ql_0.8',\n",
       "       'x__median',\n",
       "       'x__change_quantiles__f_agg_\"var\"__isabs_False__qh_1.0__ql_0.8',\n",
       "       'x__change_quantiles__f_agg_\"var\"__isabs_False__qh_0.2__ql_0.0',\n",
       "       'x__linear_trend__attr_\"stderr\"',\n",
       "       'x__energy_ratio_by_chunks__num_segments_10__segment_focus_8',\n",
       "       'x__ratio_beyond_r_sigma__r_3', 'x__variance',\n",
       "       'x__standard_deviation',\n",
       "       'x__change_quantiles__f_agg_\"var\"__isabs_False__qh_1.0__ql_0.2',\n",
       "       'x__agg_linear_trend__f_agg_\"var\"__chunk_len_10__attr_\"intercept\"',\n",
       "       'x__change_quantiles__f_agg_\"var\"__isabs_True__qh_0.2__ql_0.0',\n",
       "       'x__energy_ratio_by_chunks__num_segments_10__segment_focus_3',\n",
       "       'x__cwt_coefficients__widths_(2, 5, 10, 20)__coeff_11__w_10',\n",
       "       'x__cwt_coefficients__widths_(2, 5, 10, 20)__coeff_12__w_10',\n",
       "       'x__cwt_coefficients__widths_(2, 5, 10, 20)__coeff_10__w_10',\n",
       "       'x__agg_linear_trend__f_agg_\"var\"__chunk_len_5__attr_\"intercept\"',\n",
       "       'x__cwt_coefficients__widths_(2, 5, 10, 20)__coeff_13__w_10',\n",
       "       'x__cwt_coefficients__widths_(2, 5, 10, 20)__coeff_9__w_10',\n",
       "       'x__cwt_coefficients__widths_(2, 5, 10, 20)__coeff_14__w_10',\n",
       "       'x__spkt_welch_density__coeff_8',\n",
       "       'x__change_quantiles__f_agg_\"mean\"__isabs_True__qh_0.4__ql_0.2',\n",
       "       'x__ar_coefficient__k_10__coeff_1',\n",
       "       'x__spkt_welch_density__coeff_5',\n",
       "       'x__cwt_coefficients__widths_(2, 5, 10, 20)__coeff_8__w_10',\n",
       "       'x__energy_ratio_by_chunks__num_segments_10__segment_focus_1',\n",
       "       'x__autocorrelation__lag_2',\n",
       "       'x__agg_autocorrelation__f_agg_\"mean\"__maxlag_40',\n",
       "       'x__fft_coefficient__coeff_21__attr_\"abs\"',\n",
       "       'x__energy_ratio_by_chunks__num_segments_10__segment_focus_6',\n",
       "       'x__agg_autocorrelation__f_agg_\"median\"__maxlag_40',\n",
       "       'x__augmented_dickey_fuller__attr_\"pvalue\"',\n",
       "       'x__augmented_dickey_fuller__attr_\"teststat\"',\n",
       "       'x__cwt_coefficients__widths_(2, 5, 10, 20)__coeff_7__w_10',\n",
       "       'x__ratio_beyond_r_sigma__r_2',\n",
       "       'x__energy_ratio_by_chunks__num_segments_10__segment_focus_5',\n",
       "       'x__fft_coefficient__coeff_19__attr_\"abs\"',\n",
       "       'x__cwt_coefficients__widths_(2, 5, 10, 20)__coeff_6__w_10',\n",
       "       'x__agg_linear_trend__f_agg_\"max\"__chunk_len_10__attr_\"stderr\"',\n",
       "       'x__linear_trend__attr_\"pvalue\"',\n",
       "       'x__fft_coefficient__coeff_24__attr_\"abs\"',\n",
       "       'x__fft_coefficient__coeff_16__attr_\"abs\"', 'x__number_peaks__n_5',\n",
       "       'x__fft_coefficient__coeff_20__attr_\"abs\"',\n",
       "       'x__change_quantiles__f_agg_\"var\"__isabs_False__qh_1.0__ql_0.4',\n",
       "       'x__change_quantiles__f_agg_\"var\"__isabs_True__qh_1.0__ql_0.0',\n",
       "       'x__cwt_coefficients__widths_(2, 5, 10, 20)__coeff_5__w_10',\n",
       "       'x__fft_coefficient__coeff_10__attr_\"abs\"',\n",
       "       'x__fft_coefficient__coeff_17__attr_\"abs\"',\n",
       "       'x__symmetry_looking__r_0.15000000000000002',\n",
       "       'x__fft_coefficient__coeff_11__attr_\"abs\"',\n",
       "       'x__fft_coefficient__coeff_23__attr_\"abs\"',\n",
       "       'x__change_quantiles__f_agg_\"mean\"__isabs_True__qh_1.0__ql_0.6',\n",
       "       'x__cwt_coefficients__widths_(2, 5, 10, 20)__coeff_5__w_5',\n",
       "       'x__cwt_coefficients__widths_(2, 5, 10, 20)__coeff_6__w_5',\n",
       "       'x__fft_coefficient__coeff_13__attr_\"abs\"',\n",
       "       'x__energy_ratio_by_chunks__num_segments_10__segment_focus_2',\n",
       "       'x__cwt_coefficients__widths_(2, 5, 10, 20)__coeff_4__w_5',\n",
       "       'x__cwt_coefficients__widths_(2, 5, 10, 20)__coeff_4__w_10',\n",
       "       'x__fft_aggregated__aggtype_\"skew\"',\n",
       "       'x__fft_coefficient__coeff_12__attr_\"abs\"',\n",
       "       'x__energy_ratio_by_chunks__num_segments_10__segment_focus_4',\n",
       "       'x__cwt_coefficients__widths_(2, 5, 10, 20)__coeff_7__w_5',\n",
       "       'x__fft_aggregated__aggtype_\"variance\"',\n",
       "       'x__partial_autocorrelation__lag_2', 'x__number_cwt_peaks__n_1',\n",
       "       'x__fft_coefficient__coeff_15__attr_\"abs\"', 'x__number_peaks__n_3',\n",
       "       'x__fft_coefficient__coeff_18__attr_\"abs\"',\n",
       "       'x__fft_coefficient__coeff_14__attr_\"abs\"',\n",
       "       'x__ar_coefficient__k_10__coeff_2',\n",
       "       'x__spkt_welch_density__coeff_2', 'x__autocorrelation__lag_3',\n",
       "       'x__cwt_coefficients__widths_(2, 5, 10, 20)__coeff_8__w_5',\n",
       "       'x__change_quantiles__f_agg_\"var\"__isabs_False__qh_0.8__ql_0.6',\n",
       "       'x__cwt_coefficients__widths_(2, 5, 10, 20)__coeff_3__w_5',\n",
       "       'x__change_quantiles__f_agg_\"var\"__isabs_False__qh_0.4__ql_0.2',\n",
       "       'x__fft_coefficient__coeff_7__attr_\"abs\"',\n",
       "       'x__number_cwt_peaks__n_5',\n",
       "       'x__change_quantiles__f_agg_\"var\"__isabs_True__qh_0.6__ql_0.4',\n",
       "       'x__change_quantiles__f_agg_\"var\"__isabs_True__qh_0.8__ql_0.6',\n",
       "       'x__cwt_coefficients__widths_(2, 5, 10, 20)__coeff_3__w_10',\n",
       "       'x__fft_coefficient__coeff_1__attr_\"abs\"',\n",
       "       'x__fft_coefficient__coeff_2__attr_\"real\"',\n",
       "       'x__fft_coefficient__coeff_5__attr_\"abs\"',\n",
       "       'x__change_quantiles__f_agg_\"var\"__isabs_False__qh_0.6__ql_0.4',\n",
       "       'x__change_quantiles__f_agg_\"mean\"__isabs_True__qh_1.0__ql_0.8',\n",
       "       'x__fft_coefficient__coeff_22__attr_\"abs\"',\n",
       "       'x__change_quantiles__f_agg_\"var\"__isabs_True__qh_0.4__ql_0.2',\n",
       "       'x__cwt_coefficients__widths_(2, 5, 10, 20)__coeff_9__w_5',\n",
       "       'x__ar_coefficient__k_10__coeff_3',\n",
       "       'x__partial_autocorrelation__lag_3',\n",
       "       'x__index_mass_quantile__q_0.7', 'x__index_mass_quantile__q_0.8',\n",
       "       'x__fft_coefficient__coeff_9__attr_\"abs\"',\n",
       "       'x__fft_coefficient__coeff_12__attr_\"real\"',\n",
       "       'x__autocorrelation__lag_4',\n",
       "       'x__fft_coefficient__coeff_8__attr_\"abs\"',\n",
       "       'x__energy_ratio_by_chunks__num_segments_10__segment_focus_0',\n",
       "       'x__agg_linear_trend__f_agg_\"mean\"__chunk_len_5__attr_\"stderr\"',\n",
       "       'x__index_mass_quantile__q_0.6',\n",
       "       'x__fft_coefficient__coeff_6__attr_\"abs\"',\n",
       "       'x__fft_coefficient__coeff_4__attr_\"real\"',\n",
       "       'x__change_quantiles__f_agg_\"mean\"__isabs_False__qh_0.6__ql_0.0',\n",
       "       'x__cwt_coefficients__widths_(2, 5, 10, 20)__coeff_13__w_2',\n",
       "       'x__change_quantiles__f_agg_\"var\"__isabs_True__qh_1.0__ql_0.2',\n",
       "       'x__cwt_coefficients__widths_(2, 5, 10, 20)__coeff_2__w_10',\n",
       "       'x__cwt_coefficients__widths_(2, 5, 10, 20)__coeff_10__w_5',\n",
       "       'x__energy_ratio_by_chunks__num_segments_10__segment_focus_9',\n",
       "       'x__fft_coefficient__coeff_4__attr_\"imag\"',\n",
       "       'x__cwt_coefficients__widths_(2, 5, 10, 20)__coeff_2__w_5',\n",
       "       'x__fft_coefficient__coeff_19__attr_\"real\"',\n",
       "       'x__friedrich_coefficients__m_3__r_30__coeff_2',\n",
       "       'x__change_quantiles__f_agg_\"mean\"__isabs_True__qh_0.4__ql_0.0',\n",
       "       'x__partial_autocorrelation__lag_8',\n",
       "       'x__cwt_coefficients__widths_(2, 5, 10, 20)__coeff_12__w_2'],\n",
       "      dtype=object)"
      ]
     },
     "execution_count": 10,
     "metadata": {},
     "output_type": "execute_result"
    }
   ],
   "source": [
    "tsfresh_features.columns.values"
   ]
  },
  {
   "cell_type": "code",
   "execution_count": null,
   "metadata": {},
   "outputs": [],
   "source": []
  },
  {
   "cell_type": "code",
   "execution_count": null,
   "metadata": {
    "ExecuteTime": {
     "start_time": "2019-11-08T08:38:51.122Z"
    },
    "collapsed": true
   },
   "outputs": [
    {
     "name": "stderr",
     "output_type": "stream",
     "text": [
      "\n",
      "Feature Extraction:   0%|          | 0/40 [00:00<?, ?it/s]\u001b[A\n",
      "Feature Extraction:   2%|▎         | 1/40 [02:09<1:23:50, 128.99s/it]\u001b[A\n",
      "Feature Extraction:   5%|▌         | 2/40 [02:09<57:19, 90.52s/it]   \u001b[A\n",
      "Feature Extraction:   8%|▊         | 3/40 [02:10<39:13, 63.61s/it]\u001b[A\n",
      "Feature Extraction:  10%|█         | 4/40 [02:11<26:50, 44.73s/it]\u001b[A\n",
      "Feature Extraction:  12%|█▎        | 5/40 [02:11<18:22, 31.51s/it]\u001b[A\n",
      "Feature Extraction:  15%|█▌        | 6/40 [02:12<12:37, 22.28s/it]\u001b[A\n",
      "Feature Extraction:  18%|█▊        | 7/40 [02:13<08:42, 15.82s/it]\u001b[A\n",
      "Feature Extraction:  20%|██        | 8/40 [02:14<06:02, 11.32s/it]\u001b[A\n",
      "Feature Extraction:  22%|██▎       | 9/40 [04:12<22:27, 43.48s/it]\u001b[A\n",
      "Feature Extraction:  25%|██▌       | 10/40 [04:13<15:24, 30.81s/it]\u001b[A\n",
      "Feature Extraction:  28%|██▊       | 11/40 [04:15<10:35, 21.91s/it]\u001b[A\n",
      "Feature Extraction:  30%|███       | 12/40 [04:16<07:18, 15.65s/it]\u001b[A\n",
      "Feature Extraction:  32%|███▎      | 13/40 [04:17<05:05, 11.32s/it]\u001b[A\n",
      "Feature Extraction:  35%|███▌      | 14/40 [04:18<03:34,  8.25s/it]\u001b[A\n",
      "Feature Extraction:  38%|███▊      | 15/40 [04:19<02:31,  6.05s/it]\u001b[A\n",
      "Feature Extraction:  40%|████      | 16/40 [04:20<01:48,  4.50s/it]\u001b[A\n",
      "Feature Extraction:  42%|████▎     | 17/40 [06:26<15:44, 41.09s/it]\u001b[A\n",
      "Feature Extraction:  45%|████▌     | 18/40 [06:27<10:40, 29.11s/it]\u001b[A\n",
      "Feature Extraction:  48%|████▊     | 19/40 [06:28<07:13, 20.66s/it]\u001b[A\n",
      "Feature Extraction:  50%|█████     | 20/40 [06:29<04:55, 14.76s/it]\u001b[A\n",
      "Feature Extraction:  52%|█████▎    | 21/40 [06:31<03:25, 10.82s/it]\u001b[A\n",
      "Feature Extraction:  55%|█████▌    | 22/40 [06:32<02:21,  7.85s/it]\u001b[A\n",
      "Feature Extraction:  57%|█████▊    | 23/40 [06:33<01:37,  5.75s/it]\u001b[A\n",
      "Feature Extraction:  60%|██████    | 24/40 [06:34<01:09,  4.33s/it]\u001b[A"
     ]
    }
   ],
   "source": [
    "extracted_features = extract_features(df_intervals, column_id=\"id\", column_sort=\"time\", n_jobs=8)"
   ]
  },
  {
   "cell_type": "code",
   "execution_count": 58,
   "metadata": {
    "ExecuteTime": {
     "end_time": "2019-11-07T14:55:47.138535Z",
     "start_time": "2019-11-07T14:55:34.290517Z"
    },
    "collapsed": true
   },
   "outputs": [
    {
     "name": "stderr",
     "output_type": "stream",
     "text": [
      "WARNING:tsfresh.utilities.dataframe_functions:The columns ['x__agg_linear_trend__f_agg_\"max\"__chunk_len_50__attr_\"intercept\"'\n",
      " 'x__agg_linear_trend__f_agg_\"max\"__chunk_len_50__attr_\"rvalue\"'\n",
      " 'x__agg_linear_trend__f_agg_\"max\"__chunk_len_50__attr_\"slope\"'\n",
      " 'x__agg_linear_trend__f_agg_\"max\"__chunk_len_50__attr_\"stderr\"'\n",
      " 'x__agg_linear_trend__f_agg_\"mean\"__chunk_len_50__attr_\"intercept\"'\n",
      " 'x__agg_linear_trend__f_agg_\"mean\"__chunk_len_50__attr_\"rvalue\"'\n",
      " 'x__agg_linear_trend__f_agg_\"mean\"__chunk_len_50__attr_\"slope\"'\n",
      " 'x__agg_linear_trend__f_agg_\"mean\"__chunk_len_50__attr_\"stderr\"'\n",
      " 'x__agg_linear_trend__f_agg_\"min\"__chunk_len_50__attr_\"intercept\"'\n",
      " 'x__agg_linear_trend__f_agg_\"min\"__chunk_len_50__attr_\"rvalue\"'\n",
      " 'x__agg_linear_trend__f_agg_\"min\"__chunk_len_50__attr_\"slope\"'\n",
      " 'x__agg_linear_trend__f_agg_\"min\"__chunk_len_50__attr_\"stderr\"'\n",
      " 'x__agg_linear_trend__f_agg_\"var\"__chunk_len_50__attr_\"intercept\"'\n",
      " 'x__agg_linear_trend__f_agg_\"var\"__chunk_len_50__attr_\"rvalue\"'\n",
      " 'x__agg_linear_trend__f_agg_\"var\"__chunk_len_50__attr_\"slope\"'\n",
      " 'x__agg_linear_trend__f_agg_\"var\"__chunk_len_50__attr_\"stderr\"'\n",
      " 'x__fft_coefficient__coeff_25__attr_\"abs\"'\n",
      " 'x__fft_coefficient__coeff_25__attr_\"angle\"'\n",
      " 'x__fft_coefficient__coeff_25__attr_\"imag\"'\n",
      " 'x__fft_coefficient__coeff_25__attr_\"real\"'\n",
      " 'x__fft_coefficient__coeff_26__attr_\"abs\"'\n",
      " 'x__fft_coefficient__coeff_26__attr_\"angle\"'\n",
      " 'x__fft_coefficient__coeff_26__attr_\"imag\"'\n",
      " 'x__fft_coefficient__coeff_26__attr_\"real\"'\n",
      " 'x__fft_coefficient__coeff_27__attr_\"abs\"'\n",
      " 'x__fft_coefficient__coeff_27__attr_\"angle\"'\n",
      " 'x__fft_coefficient__coeff_27__attr_\"imag\"'\n",
      " 'x__fft_coefficient__coeff_27__attr_\"real\"'\n",
      " 'x__fft_coefficient__coeff_28__attr_\"abs\"'\n",
      " 'x__fft_coefficient__coeff_28__attr_\"angle\"'\n",
      " 'x__fft_coefficient__coeff_28__attr_\"imag\"'\n",
      " 'x__fft_coefficient__coeff_28__attr_\"real\"'\n",
      " 'x__fft_coefficient__coeff_29__attr_\"abs\"'\n",
      " 'x__fft_coefficient__coeff_29__attr_\"angle\"'\n",
      " 'x__fft_coefficient__coeff_29__attr_\"imag\"'\n",
      " 'x__fft_coefficient__coeff_29__attr_\"real\"'\n",
      " 'x__fft_coefficient__coeff_30__attr_\"abs\"'\n",
      " 'x__fft_coefficient__coeff_30__attr_\"angle\"'\n",
      " 'x__fft_coefficient__coeff_30__attr_\"imag\"'\n",
      " 'x__fft_coefficient__coeff_30__attr_\"real\"'\n",
      " 'x__fft_coefficient__coeff_31__attr_\"abs\"'\n",
      " 'x__fft_coefficient__coeff_31__attr_\"angle\"'\n",
      " 'x__fft_coefficient__coeff_31__attr_\"imag\"'\n",
      " 'x__fft_coefficient__coeff_31__attr_\"real\"'\n",
      " 'x__fft_coefficient__coeff_32__attr_\"abs\"'\n",
      " 'x__fft_coefficient__coeff_32__attr_\"angle\"'\n",
      " 'x__fft_coefficient__coeff_32__attr_\"imag\"'\n",
      " 'x__fft_coefficient__coeff_32__attr_\"real\"'\n",
      " 'x__fft_coefficient__coeff_33__attr_\"abs\"'\n",
      " 'x__fft_coefficient__coeff_33__attr_\"angle\"'\n",
      " 'x__fft_coefficient__coeff_33__attr_\"imag\"'\n",
      " 'x__fft_coefficient__coeff_33__attr_\"real\"'\n",
      " 'x__fft_coefficient__coeff_34__attr_\"abs\"'\n",
      " 'x__fft_coefficient__coeff_34__attr_\"angle\"'\n",
      " 'x__fft_coefficient__coeff_34__attr_\"imag\"'\n",
      " 'x__fft_coefficient__coeff_34__attr_\"real\"'\n",
      " 'x__fft_coefficient__coeff_35__attr_\"abs\"'\n",
      " 'x__fft_coefficient__coeff_35__attr_\"angle\"'\n",
      " 'x__fft_coefficient__coeff_35__attr_\"imag\"'\n",
      " 'x__fft_coefficient__coeff_35__attr_\"real\"'\n",
      " 'x__fft_coefficient__coeff_36__attr_\"abs\"'\n",
      " 'x__fft_coefficient__coeff_36__attr_\"angle\"'\n",
      " 'x__fft_coefficient__coeff_36__attr_\"imag\"'\n",
      " 'x__fft_coefficient__coeff_36__attr_\"real\"'\n",
      " 'x__fft_coefficient__coeff_37__attr_\"abs\"'\n",
      " 'x__fft_coefficient__coeff_37__attr_\"angle\"'\n",
      " 'x__fft_coefficient__coeff_37__attr_\"imag\"'\n",
      " 'x__fft_coefficient__coeff_37__attr_\"real\"'\n",
      " 'x__fft_coefficient__coeff_38__attr_\"abs\"'\n",
      " 'x__fft_coefficient__coeff_38__attr_\"angle\"'\n",
      " 'x__fft_coefficient__coeff_38__attr_\"imag\"'\n",
      " 'x__fft_coefficient__coeff_38__attr_\"real\"'\n",
      " 'x__fft_coefficient__coeff_39__attr_\"abs\"'\n",
      " 'x__fft_coefficient__coeff_39__attr_\"angle\"'\n",
      " 'x__fft_coefficient__coeff_39__attr_\"imag\"'\n",
      " 'x__fft_coefficient__coeff_39__attr_\"real\"'\n",
      " 'x__fft_coefficient__coeff_40__attr_\"abs\"'\n",
      " 'x__fft_coefficient__coeff_40__attr_\"angle\"'\n",
      " 'x__fft_coefficient__coeff_40__attr_\"imag\"'\n",
      " 'x__fft_coefficient__coeff_40__attr_\"real\"'\n",
      " 'x__fft_coefficient__coeff_41__attr_\"abs\"'\n",
      " 'x__fft_coefficient__coeff_41__attr_\"angle\"'\n",
      " 'x__fft_coefficient__coeff_41__attr_\"imag\"'\n",
      " 'x__fft_coefficient__coeff_41__attr_\"real\"'\n",
      " 'x__fft_coefficient__coeff_42__attr_\"abs\"'\n",
      " 'x__fft_coefficient__coeff_42__attr_\"angle\"'\n",
      " 'x__fft_coefficient__coeff_42__attr_\"imag\"'\n",
      " 'x__fft_coefficient__coeff_42__attr_\"real\"'\n",
      " 'x__fft_coefficient__coeff_43__attr_\"abs\"'\n",
      " 'x__fft_coefficient__coeff_43__attr_\"angle\"'\n",
      " 'x__fft_coefficient__coeff_43__attr_\"imag\"'\n",
      " 'x__fft_coefficient__coeff_43__attr_\"real\"'\n",
      " 'x__fft_coefficient__coeff_44__attr_\"abs\"'\n",
      " 'x__fft_coefficient__coeff_44__attr_\"angle\"'\n",
      " 'x__fft_coefficient__coeff_44__attr_\"imag\"'\n",
      " 'x__fft_coefficient__coeff_44__attr_\"real\"'\n",
      " 'x__fft_coefficient__coeff_45__attr_\"abs\"'\n",
      " 'x__fft_coefficient__coeff_45__attr_\"angle\"'\n",
      " 'x__fft_coefficient__coeff_45__attr_\"imag\"'\n",
      " 'x__fft_coefficient__coeff_45__attr_\"real\"'\n",
      " 'x__fft_coefficient__coeff_46__attr_\"abs\"'\n",
      " 'x__fft_coefficient__coeff_46__attr_\"angle\"'\n",
      " 'x__fft_coefficient__coeff_46__attr_\"imag\"'\n",
      " 'x__fft_coefficient__coeff_46__attr_\"real\"'\n",
      " 'x__fft_coefficient__coeff_47__attr_\"abs\"'\n",
      " 'x__fft_coefficient__coeff_47__attr_\"angle\"'\n",
      " 'x__fft_coefficient__coeff_47__attr_\"imag\"'\n",
      " 'x__fft_coefficient__coeff_47__attr_\"real\"'\n",
      " 'x__fft_coefficient__coeff_48__attr_\"abs\"'\n",
      " 'x__fft_coefficient__coeff_48__attr_\"angle\"'\n",
      " 'x__fft_coefficient__coeff_48__attr_\"imag\"'\n",
      " 'x__fft_coefficient__coeff_48__attr_\"real\"'\n",
      " 'x__fft_coefficient__coeff_49__attr_\"abs\"'\n",
      " 'x__fft_coefficient__coeff_49__attr_\"angle\"'\n",
      " 'x__fft_coefficient__coeff_49__attr_\"imag\"'\n",
      " 'x__fft_coefficient__coeff_49__attr_\"real\"'\n",
      " 'x__fft_coefficient__coeff_50__attr_\"abs\"'\n",
      " 'x__fft_coefficient__coeff_50__attr_\"angle\"'\n",
      " 'x__fft_coefficient__coeff_50__attr_\"imag\"'\n",
      " 'x__fft_coefficient__coeff_50__attr_\"real\"'\n",
      " 'x__fft_coefficient__coeff_51__attr_\"abs\"'\n",
      " 'x__fft_coefficient__coeff_51__attr_\"angle\"'\n",
      " 'x__fft_coefficient__coeff_51__attr_\"imag\"'\n",
      " 'x__fft_coefficient__coeff_51__attr_\"real\"'\n",
      " 'x__fft_coefficient__coeff_52__attr_\"abs\"'\n",
      " 'x__fft_coefficient__coeff_52__attr_\"angle\"'\n",
      " 'x__fft_coefficient__coeff_52__attr_\"imag\"'\n",
      " 'x__fft_coefficient__coeff_52__attr_\"real\"'\n",
      " 'x__fft_coefficient__coeff_53__attr_\"abs\"'\n",
      " 'x__fft_coefficient__coeff_53__attr_\"angle\"'\n",
      " 'x__fft_coefficient__coeff_53__attr_\"imag\"'\n",
      " 'x__fft_coefficient__coeff_53__attr_\"real\"'\n",
      " 'x__fft_coefficient__coeff_54__attr_\"abs\"'\n",
      " 'x__fft_coefficient__coeff_54__attr_\"angle\"'\n",
      " 'x__fft_coefficient__coeff_54__attr_\"imag\"'\n",
      " 'x__fft_coefficient__coeff_54__attr_\"real\"'\n",
      " 'x__fft_coefficient__coeff_55__attr_\"abs\"'\n",
      " 'x__fft_coefficient__coeff_55__attr_\"angle\"'\n",
      " 'x__fft_coefficient__coeff_55__attr_\"imag\"'\n",
      " 'x__fft_coefficient__coeff_55__attr_\"real\"'\n",
      " 'x__fft_coefficient__coeff_56__attr_\"abs\"'\n",
      " 'x__fft_coefficient__coeff_56__attr_\"angle\"'\n",
      " 'x__fft_coefficient__coeff_56__attr_\"imag\"'\n",
      " 'x__fft_coefficient__coeff_56__attr_\"real\"'\n",
      " 'x__fft_coefficient__coeff_57__attr_\"abs\"'\n",
      " 'x__fft_coefficient__coeff_57__attr_\"angle\"'\n",
      " 'x__fft_coefficient__coeff_57__attr_\"imag\"'\n",
      " 'x__fft_coefficient__coeff_57__attr_\"real\"'\n",
      " 'x__fft_coefficient__coeff_58__attr_\"abs\"'\n",
      " 'x__fft_coefficient__coeff_58__attr_\"angle\"'\n",
      " 'x__fft_coefficient__coeff_58__attr_\"imag\"'\n",
      " 'x__fft_coefficient__coeff_58__attr_\"real\"'\n",
      " 'x__fft_coefficient__coeff_59__attr_\"abs\"'\n",
      " 'x__fft_coefficient__coeff_59__attr_\"angle\"'\n",
      " 'x__fft_coefficient__coeff_59__attr_\"imag\"'\n",
      " 'x__fft_coefficient__coeff_59__attr_\"real\"'\n",
      " 'x__fft_coefficient__coeff_60__attr_\"abs\"'\n",
      " 'x__fft_coefficient__coeff_60__attr_\"angle\"'\n",
      " 'x__fft_coefficient__coeff_60__attr_\"imag\"'\n",
      " 'x__fft_coefficient__coeff_60__attr_\"real\"'\n",
      " 'x__fft_coefficient__coeff_61__attr_\"abs\"'\n",
      " 'x__fft_coefficient__coeff_61__attr_\"angle\"'\n",
      " 'x__fft_coefficient__coeff_61__attr_\"imag\"'\n",
      " 'x__fft_coefficient__coeff_61__attr_\"real\"'\n",
      " 'x__fft_coefficient__coeff_62__attr_\"abs\"'\n",
      " 'x__fft_coefficient__coeff_62__attr_\"angle\"'\n",
      " 'x__fft_coefficient__coeff_62__attr_\"imag\"'\n",
      " 'x__fft_coefficient__coeff_62__attr_\"real\"'\n",
      " 'x__fft_coefficient__coeff_63__attr_\"abs\"'\n",
      " 'x__fft_coefficient__coeff_63__attr_\"angle\"'\n",
      " 'x__fft_coefficient__coeff_63__attr_\"imag\"'\n",
      " 'x__fft_coefficient__coeff_63__attr_\"real\"'\n",
      " 'x__fft_coefficient__coeff_64__attr_\"abs\"'\n",
      " 'x__fft_coefficient__coeff_64__attr_\"angle\"'\n",
      " 'x__fft_coefficient__coeff_64__attr_\"imag\"'\n",
      " 'x__fft_coefficient__coeff_64__attr_\"real\"'\n",
      " 'x__fft_coefficient__coeff_65__attr_\"abs\"'\n",
      " 'x__fft_coefficient__coeff_65__attr_\"angle\"'\n",
      " 'x__fft_coefficient__coeff_65__attr_\"imag\"'\n",
      " 'x__fft_coefficient__coeff_65__attr_\"real\"'\n",
      " 'x__fft_coefficient__coeff_66__attr_\"abs\"'\n",
      " 'x__fft_coefficient__coeff_66__attr_\"angle\"'\n",
      " 'x__fft_coefficient__coeff_66__attr_\"imag\"'\n",
      " 'x__fft_coefficient__coeff_66__attr_\"real\"'\n",
      " 'x__fft_coefficient__coeff_67__attr_\"abs\"'\n",
      " 'x__fft_coefficient__coeff_67__attr_\"angle\"'\n",
      " 'x__fft_coefficient__coeff_67__attr_\"imag\"'\n",
      " 'x__fft_coefficient__coeff_67__attr_\"real\"'\n",
      " 'x__fft_coefficient__coeff_68__attr_\"abs\"'\n",
      " 'x__fft_coefficient__coeff_68__attr_\"angle\"'\n",
      " 'x__fft_coefficient__coeff_68__attr_\"imag\"'\n",
      " 'x__fft_coefficient__coeff_68__attr_\"real\"'\n",
      " 'x__fft_coefficient__coeff_69__attr_\"abs\"'\n",
      " 'x__fft_coefficient__coeff_69__attr_\"angle\"'\n",
      " 'x__fft_coefficient__coeff_69__attr_\"imag\"'\n",
      " 'x__fft_coefficient__coeff_69__attr_\"real\"'\n",
      " 'x__fft_coefficient__coeff_70__attr_\"abs\"'\n",
      " 'x__fft_coefficient__coeff_70__attr_\"angle\"'\n",
      " 'x__fft_coefficient__coeff_70__attr_\"imag\"'\n",
      " 'x__fft_coefficient__coeff_70__attr_\"real\"'\n",
      " 'x__fft_coefficient__coeff_71__attr_\"abs\"'\n",
      " 'x__fft_coefficient__coeff_71__attr_\"angle\"'\n",
      " 'x__fft_coefficient__coeff_71__attr_\"imag\"'\n",
      " 'x__fft_coefficient__coeff_71__attr_\"real\"'\n",
      " 'x__fft_coefficient__coeff_72__attr_\"abs\"'\n",
      " 'x__fft_coefficient__coeff_72__attr_\"angle\"'\n",
      " 'x__fft_coefficient__coeff_72__attr_\"imag\"'\n",
      " 'x__fft_coefficient__coeff_72__attr_\"real\"'\n",
      " 'x__fft_coefficient__coeff_73__attr_\"abs\"'\n",
      " 'x__fft_coefficient__coeff_73__attr_\"angle\"'\n",
      " 'x__fft_coefficient__coeff_73__attr_\"imag\"'\n",
      " 'x__fft_coefficient__coeff_73__attr_\"real\"'\n",
      " 'x__fft_coefficient__coeff_74__attr_\"abs\"'\n",
      " 'x__fft_coefficient__coeff_74__attr_\"angle\"'\n",
      " 'x__fft_coefficient__coeff_74__attr_\"imag\"'\n",
      " 'x__fft_coefficient__coeff_74__attr_\"real\"'\n",
      " 'x__fft_coefficient__coeff_75__attr_\"abs\"'\n",
      " 'x__fft_coefficient__coeff_75__attr_\"angle\"'\n",
      " 'x__fft_coefficient__coeff_75__attr_\"imag\"'\n",
      " 'x__fft_coefficient__coeff_75__attr_\"real\"'\n",
      " 'x__fft_coefficient__coeff_76__attr_\"abs\"'\n",
      " 'x__fft_coefficient__coeff_76__attr_\"angle\"'\n",
      " 'x__fft_coefficient__coeff_76__attr_\"imag\"'\n",
      " 'x__fft_coefficient__coeff_76__attr_\"real\"'\n",
      " 'x__fft_coefficient__coeff_77__attr_\"abs\"'\n",
      " 'x__fft_coefficient__coeff_77__attr_\"angle\"'\n",
      " 'x__fft_coefficient__coeff_77__attr_\"imag\"'\n",
      " 'x__fft_coefficient__coeff_77__attr_\"real\"'\n",
      " 'x__fft_coefficient__coeff_78__attr_\"abs\"'\n",
      " 'x__fft_coefficient__coeff_78__attr_\"angle\"'\n",
      " 'x__fft_coefficient__coeff_78__attr_\"imag\"'\n",
      " 'x__fft_coefficient__coeff_78__attr_\"real\"'\n",
      " 'x__fft_coefficient__coeff_79__attr_\"abs\"'\n",
      " 'x__fft_coefficient__coeff_79__attr_\"angle\"'\n",
      " 'x__fft_coefficient__coeff_79__attr_\"imag\"'\n",
      " 'x__fft_coefficient__coeff_79__attr_\"real\"'\n",
      " 'x__fft_coefficient__coeff_80__attr_\"abs\"'\n",
      " 'x__fft_coefficient__coeff_80__attr_\"angle\"'\n",
      " 'x__fft_coefficient__coeff_80__attr_\"imag\"'\n",
      " 'x__fft_coefficient__coeff_80__attr_\"real\"'\n",
      " 'x__fft_coefficient__coeff_81__attr_\"abs\"'\n",
      " 'x__fft_coefficient__coeff_81__attr_\"angle\"'\n",
      " 'x__fft_coefficient__coeff_81__attr_\"imag\"'\n",
      " 'x__fft_coefficient__coeff_81__attr_\"real\"'\n",
      " 'x__fft_coefficient__coeff_82__attr_\"abs\"'\n",
      " 'x__fft_coefficient__coeff_82__attr_\"angle\"'\n",
      " 'x__fft_coefficient__coeff_82__attr_\"imag\"'\n",
      " 'x__fft_coefficient__coeff_82__attr_\"real\"'\n",
      " 'x__fft_coefficient__coeff_83__attr_\"abs\"'\n",
      " 'x__fft_coefficient__coeff_83__attr_\"angle\"'\n",
      " 'x__fft_coefficient__coeff_83__attr_\"imag\"'\n",
      " 'x__fft_coefficient__coeff_83__attr_\"real\"'\n",
      " 'x__fft_coefficient__coeff_84__attr_\"abs\"'\n",
      " 'x__fft_coefficient__coeff_84__attr_\"angle\"'\n",
      " 'x__fft_coefficient__coeff_84__attr_\"imag\"'\n",
      " 'x__fft_coefficient__coeff_84__attr_\"real\"'\n",
      " 'x__fft_coefficient__coeff_85__attr_\"abs\"'\n",
      " 'x__fft_coefficient__coeff_85__attr_\"angle\"'\n",
      " 'x__fft_coefficient__coeff_85__attr_\"imag\"'\n",
      " 'x__fft_coefficient__coeff_85__attr_\"real\"'\n",
      " 'x__fft_coefficient__coeff_86__attr_\"abs\"'\n",
      " 'x__fft_coefficient__coeff_86__attr_\"angle\"'\n",
      " 'x__fft_coefficient__coeff_86__attr_\"imag\"'\n",
      " 'x__fft_coefficient__coeff_86__attr_\"real\"'\n",
      " 'x__fft_coefficient__coeff_87__attr_\"abs\"'\n",
      " 'x__fft_coefficient__coeff_87__attr_\"angle\"'\n",
      " 'x__fft_coefficient__coeff_87__attr_\"imag\"'\n",
      " 'x__fft_coefficient__coeff_87__attr_\"real\"'\n",
      " 'x__fft_coefficient__coeff_88__attr_\"abs\"'\n",
      " 'x__fft_coefficient__coeff_88__attr_\"angle\"'\n",
      " 'x__fft_coefficient__coeff_88__attr_\"imag\"'\n",
      " 'x__fft_coefficient__coeff_88__attr_\"real\"'\n",
      " 'x__fft_coefficient__coeff_89__attr_\"abs\"'\n",
      " 'x__fft_coefficient__coeff_89__attr_\"angle\"'\n",
      " 'x__fft_coefficient__coeff_89__attr_\"imag\"'\n",
      " 'x__fft_coefficient__coeff_89__attr_\"real\"'\n",
      " 'x__fft_coefficient__coeff_90__attr_\"abs\"'\n",
      " 'x__fft_coefficient__coeff_90__attr_\"angle\"'\n",
      " 'x__fft_coefficient__coeff_90__attr_\"imag\"'\n",
      " 'x__fft_coefficient__coeff_90__attr_\"real\"'\n",
      " 'x__fft_coefficient__coeff_91__attr_\"abs\"'\n",
      " 'x__fft_coefficient__coeff_91__attr_\"angle\"'\n",
      " 'x__fft_coefficient__coeff_91__attr_\"imag\"'\n",
      " 'x__fft_coefficient__coeff_91__attr_\"real\"'\n",
      " 'x__fft_coefficient__coeff_92__attr_\"abs\"'\n",
      " 'x__fft_coefficient__coeff_92__attr_\"angle\"'\n",
      " 'x__fft_coefficient__coeff_92__attr_\"imag\"'\n",
      " 'x__fft_coefficient__coeff_92__attr_\"real\"'\n",
      " 'x__fft_coefficient__coeff_93__attr_\"abs\"'\n",
      " 'x__fft_coefficient__coeff_93__attr_\"angle\"'\n",
      " 'x__fft_coefficient__coeff_93__attr_\"imag\"'\n",
      " 'x__fft_coefficient__coeff_93__attr_\"real\"'\n",
      " 'x__fft_coefficient__coeff_94__attr_\"abs\"'\n",
      " 'x__fft_coefficient__coeff_94__attr_\"angle\"'\n",
      " 'x__fft_coefficient__coeff_94__attr_\"imag\"'\n",
      " 'x__fft_coefficient__coeff_94__attr_\"real\"'\n",
      " 'x__fft_coefficient__coeff_95__attr_\"abs\"'\n",
      " 'x__fft_coefficient__coeff_95__attr_\"angle\"'\n",
      " 'x__fft_coefficient__coeff_95__attr_\"imag\"'\n",
      " 'x__fft_coefficient__coeff_95__attr_\"real\"'\n",
      " 'x__fft_coefficient__coeff_96__attr_\"abs\"'\n",
      " 'x__fft_coefficient__coeff_96__attr_\"angle\"'\n",
      " 'x__fft_coefficient__coeff_96__attr_\"imag\"'\n",
      " 'x__fft_coefficient__coeff_96__attr_\"real\"'\n",
      " 'x__fft_coefficient__coeff_97__attr_\"abs\"'\n",
      " 'x__fft_coefficient__coeff_97__attr_\"angle\"'\n",
      " 'x__fft_coefficient__coeff_97__attr_\"imag\"'\n",
      " 'x__fft_coefficient__coeff_97__attr_\"real\"'\n",
      " 'x__fft_coefficient__coeff_98__attr_\"abs\"'\n",
      " 'x__fft_coefficient__coeff_98__attr_\"angle\"'\n",
      " 'x__fft_coefficient__coeff_98__attr_\"imag\"'\n",
      " 'x__fft_coefficient__coeff_98__attr_\"real\"'\n",
      " 'x__fft_coefficient__coeff_99__attr_\"abs\"'\n",
      " 'x__fft_coefficient__coeff_99__attr_\"angle\"'\n",
      " 'x__fft_coefficient__coeff_99__attr_\"imag\"'\n",
      " 'x__fft_coefficient__coeff_99__attr_\"real\"'] did not have any finite values. Filling with zeros.\n"
     ]
    },
    {
     "name": "stderr",
     "output_type": "stream",
     "text": [
      "WARNING:tsfresh.feature_selection.relevance:Infered classification as machine learning task\n",
      "WARNING:tsfresh.feature_selection.relevance:[test_feature_significance] Feature x__agg_linear_trend__f_agg_\"max\"__chunk_len_50__attr_\"intercept\" is constant\n",
      "WARNING:tsfresh.feature_selection.relevance:[test_feature_significance] Feature x__agg_linear_trend__f_agg_\"max\"__chunk_len_50__attr_\"rvalue\" is constant\n",
      "WARNING:tsfresh.feature_selection.relevance:[test_feature_significance] Feature x__agg_linear_trend__f_agg_\"max\"__chunk_len_50__attr_\"stderr\" is constant\n",
      "WARNING:tsfresh.feature_selection.relevance:[test_feature_significance] Feature x__agg_linear_trend__f_agg_\"max\"__chunk_len_50__attr_\"slope\" is constant\n",
      "WARNING:tsfresh.feature_selection.relevance:[test_feature_significance] Feature x__agg_linear_trend__f_agg_\"mean\"__chunk_len_50__attr_\"intercept\" is constant\n",
      "WARNING:tsfresh.feature_selection.relevance:[test_feature_significance] Feature x__agg_linear_trend__f_agg_\"mean\"__chunk_len_50__attr_\"rvalue\" is constant\n",
      "WARNING:tsfresh.feature_selection.relevance:[test_feature_significance] Feature x__agg_linear_trend__f_agg_\"mean\"__chunk_len_50__attr_\"slope\" is constant\n",
      "WARNING:tsfresh.feature_selection.relevance:[test_feature_significance] Feature x__agg_linear_trend__f_agg_\"mean\"__chunk_len_50__attr_\"stderr\" is constant\n",
      "WARNING:tsfresh.feature_selection.relevance:[test_feature_significance] Feature x__agg_linear_trend__f_agg_\"min\"__chunk_len_50__attr_\"intercept\" is constant\n",
      "WARNING:tsfresh.feature_selection.relevance:[test_feature_significance] Feature x__agg_linear_trend__f_agg_\"min\"__chunk_len_50__attr_\"rvalue\" is constant\n",
      "WARNING:tsfresh.feature_selection.relevance:[test_feature_significance] Feature x__agg_linear_trend__f_agg_\"min\"__chunk_len_50__attr_\"slope\" is constant\n",
      "WARNING:tsfresh.feature_selection.relevance:[test_feature_significance] Feature x__agg_linear_trend__f_agg_\"min\"__chunk_len_50__attr_\"stderr\" is constant\n",
      "WARNING:tsfresh.feature_selection.relevance:[test_feature_significance] Feature x__change_quantiles__f_agg_\"mean\"__isabs_True__qh_0.2__ql_0.2 is constant\n",
      "WARNING:tsfresh.feature_selection.relevance:[test_feature_significance] Feature x__change_quantiles__f_agg_\"mean\"__isabs_True__qh_0.2__ql_0.4 is constant\n",
      "WARNING:tsfresh.feature_selection.relevance:[test_feature_significance] Feature x__change_quantiles__f_agg_\"mean\"__isabs_True__qh_0.2__ql_0.6 is constant\n",
      "WARNING:tsfresh.feature_selection.relevance:[test_feature_significance] Feature x__agg_linear_trend__f_agg_\"var\"__chunk_len_50__attr_\"intercept\" is constant\n",
      "WARNING:tsfresh.feature_selection.relevance:[test_feature_significance] Feature x__change_quantiles__f_agg_\"mean\"__isabs_True__qh_0.2__ql_0.8 is constant\n",
      "WARNING:tsfresh.feature_selection.relevance:[test_feature_significance] Feature x__change_quantiles__f_agg_\"mean\"__isabs_False__qh_0.2__ql_0.2 is constant\n",
      "WARNING:tsfresh.feature_selection.relevance:[test_feature_significance] Feature x__change_quantiles__f_agg_\"mean\"__isabs_False__qh_0.2__ql_0.4 is constant\n",
      "WARNING:tsfresh.feature_selection.relevance:[test_feature_significance] Feature x__agg_linear_trend__f_agg_\"var\"__chunk_len_50__attr_\"rvalue\" is constant\n",
      "WARNING:tsfresh.feature_selection.relevance:[test_feature_significance] Feature x__agg_linear_trend__f_agg_\"var\"__chunk_len_50__attr_\"slope\" is constant\n",
      "WARNING:tsfresh.feature_selection.relevance:[test_feature_significance] Feature x__change_quantiles__f_agg_\"mean\"__isabs_False__qh_0.2__ql_0.6 is constant\n",
      "WARNING:tsfresh.feature_selection.relevance:[test_feature_significance] Feature x__change_quantiles__f_agg_\"mean\"__isabs_True__qh_0.4__ql_0.4 is constant\n",
      "WARNING:tsfresh.feature_selection.relevance:[test_feature_significance] Feature x__agg_linear_trend__f_agg_\"var\"__chunk_len_50__attr_\"stderr\" is constant\n",
      "WARNING:tsfresh.feature_selection.relevance:[test_feature_significance] Feature x__change_quantiles__f_agg_\"mean\"__isabs_False__qh_0.2__ql_0.8 is constant\n",
      "WARNING:tsfresh.feature_selection.relevance:[test_feature_significance] Feature x__change_quantiles__f_agg_\"mean\"__isabs_True__qh_0.4__ql_0.6 is constant\n",
      "WARNING:tsfresh.feature_selection.relevance:[test_feature_significance] Feature x__change_quantiles__f_agg_\"mean\"__isabs_True__qh_0.4__ql_0.8 is constant\n",
      "WARNING:tsfresh.feature_selection.relevance:[test_feature_significance] Feature x__change_quantiles__f_agg_\"mean\"__isabs_False__qh_0.4__ql_0.4 is constant\n",
      "WARNING:tsfresh.feature_selection.relevance:[test_feature_significance] Feature x__change_quantiles__f_agg_\"mean\"__isabs_False__qh_0.4__ql_0.6 is constant\n",
      "WARNING:tsfresh.feature_selection.relevance:[test_feature_significance] Feature x__change_quantiles__f_agg_\"mean\"__isabs_False__qh_0.4__ql_0.8 is constant\n",
      "WARNING:tsfresh.feature_selection.relevance:[test_feature_significance] Feature x__change_quantiles__f_agg_\"mean\"__isabs_True__qh_0.6__ql_0.6 is constant\n",
      "WARNING:tsfresh.feature_selection.relevance:[test_feature_significance] Feature x__change_quantiles__f_agg_\"mean\"__isabs_True__qh_0.6__ql_0.8 is constant\n",
      "WARNING:tsfresh.feature_selection.relevance:[test_feature_significance] Feature x__change_quantiles__f_agg_\"mean\"__isabs_False__qh_0.6__ql_0.6 is constant\n",
      "WARNING:tsfresh.feature_selection.relevance:[test_feature_significance] Feature x__change_quantiles__f_agg_\"mean\"__isabs_False__qh_0.6__ql_0.8 is constant\n",
      "WARNING:tsfresh.feature_selection.relevance:[test_feature_significance] Feature x__change_quantiles__f_agg_\"mean\"__isabs_True__qh_0.8__ql_0.8 is constant\n",
      "WARNING:tsfresh.feature_selection.relevance:[test_feature_significance] Feature x__change_quantiles__f_agg_\"mean\"__isabs_False__qh_0.8__ql_0.8 is constant\n",
      "WARNING:tsfresh.feature_selection.relevance:[test_feature_significance] Feature x__change_quantiles__f_agg_\"var\"__isabs_True__qh_0.2__ql_0.2 is constant\n",
      "WARNING:tsfresh.feature_selection.relevance:[test_feature_significance] Feature x__change_quantiles__f_agg_\"var\"__isabs_True__qh_0.2__ql_0.4 is constant\n",
      "WARNING:tsfresh.feature_selection.relevance:[test_feature_significance] Feature x__change_quantiles__f_agg_\"var\"__isabs_True__qh_0.2__ql_0.6 is constant\n",
      "WARNING:tsfresh.feature_selection.relevance:[test_feature_significance] Feature x__change_quantiles__f_agg_\"var\"__isabs_False__qh_0.2__ql_0.2 is constant\n",
      "WARNING:tsfresh.feature_selection.relevance:[test_feature_significance] Feature x__change_quantiles__f_agg_\"var\"__isabs_True__qh_0.2__ql_0.8 is constant\n",
      "WARNING:tsfresh.feature_selection.relevance:[test_feature_significance] Feature x__change_quantiles__f_agg_\"var\"__isabs_False__qh_0.2__ql_0.4 is constant\n",
      "WARNING:tsfresh.feature_selection.relevance:[test_feature_significance] Feature x__change_quantiles__f_agg_\"var\"__isabs_False__qh_0.2__ql_0.6 is constant\n",
      "WARNING:tsfresh.feature_selection.relevance:[test_feature_significance] Feature x__change_quantiles__f_agg_\"var\"__isabs_False__qh_0.2__ql_0.8 is constant\n",
      "WARNING:tsfresh.feature_selection.relevance:[test_feature_significance] Feature x__change_quantiles__f_agg_\"var\"__isabs_True__qh_0.4__ql_0.4 is constant\n",
      "WARNING:tsfresh.feature_selection.relevance:[test_feature_significance] Feature x__change_quantiles__f_agg_\"var\"__isabs_True__qh_0.4__ql_0.6 is constant\n",
      "WARNING:tsfresh.feature_selection.relevance:[test_feature_significance] Feature x__change_quantiles__f_agg_\"var\"__isabs_True__qh_0.4__ql_0.8 is constant\n",
      "WARNING:tsfresh.feature_selection.relevance:[test_feature_significance] Feature x__change_quantiles__f_agg_\"var\"__isabs_False__qh_0.4__ql_0.4 is constant\n",
      "WARNING:tsfresh.feature_selection.relevance:[test_feature_significance] Feature x__change_quantiles__f_agg_\"var\"__isabs_False__qh_0.4__ql_0.6 is constant\n",
      "WARNING:tsfresh.feature_selection.relevance:[test_feature_significance] Feature x__change_quantiles__f_agg_\"var\"__isabs_False__qh_0.4__ql_0.8 is constant\n",
      "WARNING:tsfresh.feature_selection.relevance:[test_feature_significance] Feature x__change_quantiles__f_agg_\"var\"__isabs_True__qh_0.6__ql_0.6 is constant\n",
      "WARNING:tsfresh.feature_selection.relevance:[test_feature_significance] Feature x__change_quantiles__f_agg_\"var\"__isabs_True__qh_0.6__ql_0.8 is constant\n",
      "WARNING:tsfresh.feature_selection.relevance:[test_feature_significance] Feature x__change_quantiles__f_agg_\"var\"__isabs_False__qh_0.6__ql_0.6 is constant\n"
     ]
    },
    {
     "name": "stderr",
     "output_type": "stream",
     "text": [
      "WARNING:tsfresh.feature_selection.relevance:[test_feature_significance] Feature x__change_quantiles__f_agg_\"var\"__isabs_False__qh_0.6__ql_0.8 is constant\n",
      "WARNING:tsfresh.feature_selection.relevance:[test_feature_significance] Feature x__change_quantiles__f_agg_\"var\"__isabs_True__qh_0.8__ql_0.8 is constant\n",
      "WARNING:tsfresh.feature_selection.relevance:[test_feature_significance] Feature x__change_quantiles__f_agg_\"var\"__isabs_False__qh_0.8__ql_0.8 is constant\n",
      "WARNING:tsfresh.feature_selection.relevance:[test_feature_significance] Feature x__fft_coefficient__coeff_0__attr_\"angle\" is constant\n",
      "WARNING:tsfresh.feature_selection.relevance:[test_feature_significance] Feature x__fft_coefficient__coeff_0__attr_\"imag\" is constant\n",
      "WARNING:tsfresh.feature_selection.relevance:[test_feature_significance] Feature x__fft_coefficient__coeff_30__attr_\"abs\" is constant\n",
      "WARNING:tsfresh.feature_selection.relevance:[test_feature_significance] Feature x__fft_coefficient__coeff_30__attr_\"angle\" is constant\n",
      "WARNING:tsfresh.feature_selection.relevance:[test_feature_significance] Feature x__fft_coefficient__coeff_30__attr_\"imag\" is constant\n",
      "WARNING:tsfresh.feature_selection.relevance:[test_feature_significance] Feature x__fft_coefficient__coeff_30__attr_\"real\" is constant\n",
      "WARNING:tsfresh.feature_selection.relevance:[test_feature_significance] Feature x__fft_coefficient__coeff_31__attr_\"abs\" is constant\n",
      "WARNING:tsfresh.feature_selection.relevance:[test_feature_significance] Feature x__fft_coefficient__coeff_25__attr_\"abs\" is constant\n",
      "WARNING:tsfresh.feature_selection.relevance:[test_feature_significance] Feature x__fft_coefficient__coeff_25__attr_\"angle\" is constant\n",
      "WARNING:tsfresh.feature_selection.relevance:[test_feature_significance] Feature x__fft_coefficient__coeff_31__attr_\"angle\" is constant\n",
      "WARNING:tsfresh.feature_selection.relevance:[test_feature_significance] Feature x__fft_coefficient__coeff_25__attr_\"imag\" is constant\n",
      "WARNING:tsfresh.feature_selection.relevance:[test_feature_significance] Feature x__fft_coefficient__coeff_31__attr_\"imag\" is constant\n",
      "WARNING:tsfresh.feature_selection.relevance:[test_feature_significance] Feature x__fft_coefficient__coeff_25__attr_\"real\" is constant\n",
      "WARNING:tsfresh.feature_selection.relevance:[test_feature_significance] Feature x__fft_coefficient__coeff_31__attr_\"real\" is constant\n",
      "WARNING:tsfresh.feature_selection.relevance:[test_feature_significance] Feature x__fft_coefficient__coeff_26__attr_\"abs\" is constant\n",
      "WARNING:tsfresh.feature_selection.relevance:[test_feature_significance] Feature x__fft_coefficient__coeff_32__attr_\"abs\" is constant\n",
      "WARNING:tsfresh.feature_selection.relevance:[test_feature_significance] Feature x__fft_coefficient__coeff_32__attr_\"angle\" is constant\n",
      "WARNING:tsfresh.feature_selection.relevance:[test_feature_significance] Feature x__fft_coefficient__coeff_26__attr_\"angle\" is constant\n",
      "WARNING:tsfresh.feature_selection.relevance:[test_feature_significance] Feature x__fft_coefficient__coeff_32__attr_\"imag\" is constant\n",
      "WARNING:tsfresh.feature_selection.relevance:[test_feature_significance] Feature x__fft_coefficient__coeff_26__attr_\"imag\" is constant\n",
      "WARNING:tsfresh.feature_selection.relevance:[test_feature_significance] Feature x__fft_coefficient__coeff_32__attr_\"real\" is constant\n",
      "WARNING:tsfresh.feature_selection.relevance:[test_feature_significance] Feature x__fft_coefficient__coeff_26__attr_\"real\" is constant\n",
      "WARNING:tsfresh.feature_selection.relevance:[test_feature_significance] Feature x__fft_coefficient__coeff_33__attr_\"abs\" is constant\n",
      "WARNING:tsfresh.feature_selection.relevance:[test_feature_significance] Feature x__fft_coefficient__coeff_27__attr_\"abs\" is constant\n",
      "WARNING:tsfresh.feature_selection.relevance:[test_feature_significance] Feature x__fft_coefficient__coeff_33__attr_\"angle\" is constant\n",
      "WARNING:tsfresh.feature_selection.relevance:[test_feature_significance] Feature x__fft_coefficient__coeff_27__attr_\"angle\" is constant\n",
      "WARNING:tsfresh.feature_selection.relevance:[test_feature_significance] Feature x__fft_coefficient__coeff_33__attr_\"imag\" is constant\n",
      "WARNING:tsfresh.feature_selection.relevance:[test_feature_significance] Feature x__fft_coefficient__coeff_27__attr_\"imag\" is constant\n",
      "WARNING:tsfresh.feature_selection.relevance:[test_feature_significance] Feature x__fft_coefficient__coeff_41__attr_\"imag\" is constant\n",
      "WARNING:tsfresh.feature_selection.relevance:[test_feature_significance] Feature x__fft_coefficient__coeff_33__attr_\"real\" is constant\n",
      "WARNING:tsfresh.feature_selection.relevance:[test_feature_significance] Feature x__fft_coefficient__coeff_27__attr_\"real\" is constant\n",
      "WARNING:tsfresh.feature_selection.relevance:[test_feature_significance] Feature x__fft_coefficient__coeff_41__attr_\"real\" is constant\n",
      "WARNING:tsfresh.feature_selection.relevance:[test_feature_significance] Feature x__fft_coefficient__coeff_28__attr_\"abs\" is constant\n",
      "WARNING:tsfresh.feature_selection.relevance:[test_feature_significance] Feature x__fft_coefficient__coeff_34__attr_\"abs\" is constant\n",
      "WARNING:tsfresh.feature_selection.relevance:[test_feature_significance] Feature x__fft_coefficient__coeff_42__attr_\"abs\" is constant\n",
      "WARNING:tsfresh.feature_selection.relevance:[test_feature_significance] Feature x__fft_coefficient__coeff_28__attr_\"angle\" is constant\n",
      "WARNING:tsfresh.feature_selection.relevance:[test_feature_significance] Feature x__fft_coefficient__coeff_34__attr_\"angle\" is constant\n",
      "WARNING:tsfresh.feature_selection.relevance:[test_feature_significance] Feature x__fft_coefficient__coeff_42__attr_\"angle\" is constant\n",
      "WARNING:tsfresh.feature_selection.relevance:[test_feature_significance] Feature x__fft_coefficient__coeff_28__attr_\"imag\" is constant\n",
      "WARNING:tsfresh.feature_selection.relevance:[test_feature_significance] Feature x__fft_coefficient__coeff_34__attr_\"imag\" is constant\n",
      "WARNING:tsfresh.feature_selection.relevance:[test_feature_significance] Feature x__fft_coefficient__coeff_42__attr_\"imag\" is constant\n",
      "WARNING:tsfresh.feature_selection.relevance:[test_feature_significance] Feature x__fft_coefficient__coeff_28__attr_\"real\" is constant\n",
      "WARNING:tsfresh.feature_selection.relevance:[test_feature_significance] Feature x__fft_coefficient__coeff_34__attr_\"real\" is constant\n",
      "WARNING:tsfresh.feature_selection.relevance:[test_feature_significance] Feature x__fft_coefficient__coeff_42__attr_\"real\" is constant\n",
      "WARNING:tsfresh.feature_selection.relevance:[test_feature_significance] Feature x__fft_coefficient__coeff_29__attr_\"abs\" is constant\n",
      "WARNING:tsfresh.feature_selection.relevance:[test_feature_significance] Feature x__fft_coefficient__coeff_35__attr_\"abs\" is constant\n",
      "WARNING:tsfresh.feature_selection.relevance:[test_feature_significance] Feature x__fft_coefficient__coeff_29__attr_\"angle\" is constant\n",
      "WARNING:tsfresh.feature_selection.relevance:[test_feature_significance] Feature x__fft_coefficient__coeff_43__attr_\"abs\" is constant\n",
      "WARNING:tsfresh.feature_selection.relevance:[test_feature_significance] Feature x__fft_coefficient__coeff_35__attr_\"angle\" is constant\n",
      "WARNING:tsfresh.feature_selection.relevance:[test_feature_significance] Feature x__fft_coefficient__coeff_43__attr_\"angle\" is constant\n",
      "WARNING:tsfresh.feature_selection.relevance:[test_feature_significance] Feature x__fft_coefficient__coeff_29__attr_\"imag\" is constant\n",
      "WARNING:tsfresh.feature_selection.relevance:[test_feature_significance] Feature x__fft_coefficient__coeff_35__attr_\"imag\" is constant\n",
      "WARNING:tsfresh.feature_selection.relevance:[test_feature_significance] Feature x__fft_coefficient__coeff_43__attr_\"imag\" is constant\n",
      "WARNING:tsfresh.feature_selection.relevance:[test_feature_significance] Feature x__fft_coefficient__coeff_29__attr_\"real\" is constant\n",
      "WARNING:tsfresh.feature_selection.relevance:[test_feature_significance] Feature x__fft_coefficient__coeff_35__attr_\"real\" is constant\n",
      "WARNING:tsfresh.feature_selection.relevance:[test_feature_significance] Feature x__fft_coefficient__coeff_43__attr_\"real\" is constant\n",
      "WARNING:tsfresh.feature_selection.relevance:[test_feature_significance] Feature x__fft_coefficient__coeff_36__attr_\"abs\" is constant\n",
      "WARNING:tsfresh.feature_selection.relevance:[test_feature_significance] Feature x__fft_coefficient__coeff_44__attr_\"abs\" is constant\n"
     ]
    },
    {
     "name": "stderr",
     "output_type": "stream",
     "text": [
      "WARNING:tsfresh.feature_selection.relevance:[test_feature_significance] Feature x__fft_coefficient__coeff_36__attr_\"angle\" is constant\n",
      "WARNING:tsfresh.feature_selection.relevance:[test_feature_significance] Feature x__fft_coefficient__coeff_44__attr_\"angle\" is constant\n",
      "WARNING:tsfresh.feature_selection.relevance:[test_feature_significance] Feature x__fft_coefficient__coeff_36__attr_\"imag\" is constant\n",
      "WARNING:tsfresh.feature_selection.relevance:[test_feature_significance] Feature x__fft_coefficient__coeff_44__attr_\"imag\" is constant\n",
      "WARNING:tsfresh.feature_selection.relevance:[test_feature_significance] Feature x__fft_coefficient__coeff_44__attr_\"real\" is constant\n",
      "WARNING:tsfresh.feature_selection.relevance:[test_feature_significance] Feature x__fft_coefficient__coeff_36__attr_\"real\" is constant\n",
      "WARNING:tsfresh.feature_selection.relevance:[test_feature_significance] Feature x__fft_coefficient__coeff_37__attr_\"abs\" is constant\n",
      "WARNING:tsfresh.feature_selection.relevance:[test_feature_significance] Feature x__fft_coefficient__coeff_45__attr_\"abs\" is constant\n",
      "WARNING:tsfresh.feature_selection.relevance:[test_feature_significance] Feature x__fft_coefficient__coeff_37__attr_\"angle\" is constant\n",
      "WARNING:tsfresh.feature_selection.relevance:[test_feature_significance] Feature x__fft_coefficient__coeff_45__attr_\"angle\" is constant\n",
      "WARNING:tsfresh.feature_selection.relevance:[test_feature_significance] Feature x__fft_coefficient__coeff_37__attr_\"imag\" is constant\n",
      "WARNING:tsfresh.feature_selection.relevance:[test_feature_significance] Feature x__fft_coefficient__coeff_45__attr_\"imag\" is constant\n",
      "WARNING:tsfresh.feature_selection.relevance:[test_feature_significance] Feature x__fft_coefficient__coeff_53__attr_\"abs\" is constant\n",
      "WARNING:tsfresh.feature_selection.relevance:[test_feature_significance] Feature x__fft_coefficient__coeff_45__attr_\"real\" is constant\n",
      "WARNING:tsfresh.feature_selection.relevance:[test_feature_significance] Feature x__fft_coefficient__coeff_37__attr_\"real\" is constant\n",
      "WARNING:tsfresh.feature_selection.relevance:[test_feature_significance] Feature x__fft_coefficient__coeff_38__attr_\"abs\" is constant\n",
      "WARNING:tsfresh.feature_selection.relevance:[test_feature_significance] Feature x__fft_coefficient__coeff_53__attr_\"angle\" is constant\n",
      "WARNING:tsfresh.feature_selection.relevance:[test_feature_significance] Feature x__fft_coefficient__coeff_46__attr_\"abs\" is constant\n",
      "WARNING:tsfresh.feature_selection.relevance:[test_feature_significance] Feature x__fft_coefficient__coeff_38__attr_\"angle\" is constant\n",
      "WARNING:tsfresh.feature_selection.relevance:[test_feature_significance] Feature x__fft_coefficient__coeff_53__attr_\"imag\" is constant\n",
      "WARNING:tsfresh.feature_selection.relevance:[test_feature_significance] Feature x__fft_coefficient__coeff_46__attr_\"angle\" is constant\n",
      "WARNING:tsfresh.feature_selection.relevance:[test_feature_significance] Feature x__fft_coefficient__coeff_38__attr_\"imag\" is constant\n",
      "WARNING:tsfresh.feature_selection.relevance:[test_feature_significance] Feature x__fft_coefficient__coeff_53__attr_\"real\" is constant\n",
      "WARNING:tsfresh.feature_selection.relevance:[test_feature_significance] Feature x__fft_coefficient__coeff_46__attr_\"imag\" is constant\n",
      "WARNING:tsfresh.feature_selection.relevance:[test_feature_significance] Feature x__fft_coefficient__coeff_38__attr_\"real\" is constant\n",
      "WARNING:tsfresh.feature_selection.relevance:[test_feature_significance] Feature x__fft_coefficient__coeff_54__attr_\"abs\" is constant\n",
      "WARNING:tsfresh.feature_selection.relevance:[test_feature_significance] Feature x__fft_coefficient__coeff_39__attr_\"abs\" is constant\n",
      "WARNING:tsfresh.feature_selection.relevance:[test_feature_significance] Feature x__fft_coefficient__coeff_46__attr_\"real\" is constant\n",
      "WARNING:tsfresh.feature_selection.relevance:[test_feature_significance] Feature x__fft_coefficient__coeff_54__attr_\"angle\" is constant\n",
      "WARNING:tsfresh.feature_selection.relevance:[test_feature_significance] Feature x__fft_coefficient__coeff_47__attr_\"abs\" is constant\n",
      "WARNING:tsfresh.feature_selection.relevance:[test_feature_significance] Feature x__fft_coefficient__coeff_39__attr_\"angle\" is constant\n",
      "WARNING:tsfresh.feature_selection.relevance:[test_feature_significance] Feature x__fft_coefficient__coeff_54__attr_\"imag\" is constant\n",
      "WARNING:tsfresh.feature_selection.relevance:[test_feature_significance] Feature x__fft_coefficient__coeff_47__attr_\"angle\" is constant\n",
      "WARNING:tsfresh.feature_selection.relevance:[test_feature_significance] Feature x__fft_coefficient__coeff_39__attr_\"imag\" is constant\n",
      "WARNING:tsfresh.feature_selection.relevance:[test_feature_significance] Feature x__fft_coefficient__coeff_47__attr_\"imag\" is constant\n",
      "WARNING:tsfresh.feature_selection.relevance:[test_feature_significance] Feature x__fft_coefficient__coeff_39__attr_\"real\" is constant\n",
      "WARNING:tsfresh.feature_selection.relevance:[test_feature_significance] Feature x__fft_coefficient__coeff_54__attr_\"real\" is constant\n",
      "WARNING:tsfresh.feature_selection.relevance:[test_feature_significance] Feature x__fft_coefficient__coeff_47__attr_\"real\" is constant\n",
      "WARNING:tsfresh.feature_selection.relevance:[test_feature_significance] Feature x__fft_coefficient__coeff_55__attr_\"abs\" is constant\n",
      "WARNING:tsfresh.feature_selection.relevance:[test_feature_significance] Feature x__fft_coefficient__coeff_48__attr_\"abs\" is constant\n",
      "WARNING:tsfresh.feature_selection.relevance:[test_feature_significance] Feature x__fft_coefficient__coeff_55__attr_\"angle\" is constant\n",
      "WARNING:tsfresh.feature_selection.relevance:[test_feature_significance] Feature x__fft_coefficient__coeff_48__attr_\"angle\" is constant\n",
      "WARNING:tsfresh.feature_selection.relevance:[test_feature_significance] Feature x__fft_coefficient__coeff_55__attr_\"imag\" is constant\n",
      "WARNING:tsfresh.feature_selection.relevance:[test_feature_significance] Feature x__fft_coefficient__coeff_55__attr_\"real\" is constant\n",
      "WARNING:tsfresh.feature_selection.relevance:[test_feature_significance] Feature x__fft_coefficient__coeff_48__attr_\"imag\" is constant\n",
      "WARNING:tsfresh.feature_selection.relevance:[test_feature_significance] Feature x__fft_coefficient__coeff_40__attr_\"abs\" is constant\n",
      "WARNING:tsfresh.feature_selection.relevance:[test_feature_significance] Feature x__fft_coefficient__coeff_48__attr_\"real\" is constant\n",
      "WARNING:tsfresh.feature_selection.relevance:[test_feature_significance] Feature x__fft_coefficient__coeff_56__attr_\"abs\" is constant\n",
      "WARNING:tsfresh.feature_selection.relevance:[test_feature_significance] Feature x__fft_coefficient__coeff_49__attr_\"abs\" is constant\n",
      "WARNING:tsfresh.feature_selection.relevance:[test_feature_significance] Feature x__fft_coefficient__coeff_40__attr_\"angle\" is constant\n",
      "WARNING:tsfresh.feature_selection.relevance:[test_feature_significance] Feature x__fft_coefficient__coeff_56__attr_\"angle\" is constant\n",
      "WARNING:tsfresh.feature_selection.relevance:[test_feature_significance] Feature x__fft_coefficient__coeff_40__attr_\"imag\" is constant\n",
      "WARNING:tsfresh.feature_selection.relevance:[test_feature_significance] Feature x__fft_coefficient__coeff_49__attr_\"angle\" is constant\n",
      "WARNING:tsfresh.feature_selection.relevance:[test_feature_significance] Feature x__fft_coefficient__coeff_56__attr_\"imag\" is constant\n",
      "WARNING:tsfresh.feature_selection.relevance:[test_feature_significance] Feature x__fft_coefficient__coeff_40__attr_\"real\" is constant\n",
      "WARNING:tsfresh.feature_selection.relevance:[test_feature_significance] Feature x__fft_coefficient__coeff_49__attr_\"imag\" is constant\n",
      "WARNING:tsfresh.feature_selection.relevance:[test_feature_significance] Feature x__fft_coefficient__coeff_56__attr_\"real\" is constant\n",
      "WARNING:tsfresh.feature_selection.relevance:[test_feature_significance] Feature x__fft_coefficient__coeff_49__attr_\"real\" is constant\n",
      "WARNING:tsfresh.feature_selection.relevance:[test_feature_significance] Feature x__fft_coefficient__coeff_41__attr_\"abs\" is constant\n",
      "WARNING:tsfresh.feature_selection.relevance:[test_feature_significance] Feature x__fft_coefficient__coeff_57__attr_\"abs\" is constant\n",
      "WARNING:tsfresh.feature_selection.relevance:[test_feature_significance] Feature x__fft_coefficient__coeff_41__attr_\"angle\" is constant\n",
      "WARNING:tsfresh.feature_selection.relevance:[test_feature_significance] Feature x__fft_coefficient__coeff_64__attr_\"imag\" is constant\n"
     ]
    },
    {
     "name": "stderr",
     "output_type": "stream",
     "text": [
      "WARNING:tsfresh.feature_selection.relevance:[test_feature_significance] Feature x__fft_coefficient__coeff_57__attr_\"angle\" is constant\n",
      "WARNING:tsfresh.feature_selection.relevance:[test_feature_significance] Feature x__fft_coefficient__coeff_64__attr_\"real\" is constant\n",
      "WARNING:tsfresh.feature_selection.relevance:[test_feature_significance] Feature x__fft_coefficient__coeff_57__attr_\"imag\" is constant\n",
      "WARNING:tsfresh.feature_selection.relevance:[test_feature_significance] Feature x__fft_coefficient__coeff_65__attr_\"abs\" is constant\n",
      "WARNING:tsfresh.feature_selection.relevance:[test_feature_significance] Feature x__fft_coefficient__coeff_57__attr_\"real\" is constant\n",
      "WARNING:tsfresh.feature_selection.relevance:[test_feature_significance] Feature x__fft_coefficient__coeff_50__attr_\"abs\" is constant\n",
      "WARNING:tsfresh.feature_selection.relevance:[test_feature_significance] Feature x__fft_coefficient__coeff_65__attr_\"angle\" is constant\n",
      "WARNING:tsfresh.feature_selection.relevance:[test_feature_significance] Feature x__fft_coefficient__coeff_50__attr_\"angle\" is constant\n",
      "WARNING:tsfresh.feature_selection.relevance:[test_feature_significance] Feature x__fft_coefficient__coeff_65__attr_\"imag\" is constant\n",
      "WARNING:tsfresh.feature_selection.relevance:[test_feature_significance] Feature x__fft_coefficient__coeff_58__attr_\"abs\" is constant\n",
      "WARNING:tsfresh.feature_selection.relevance:[test_feature_significance] Feature x__fft_coefficient__coeff_65__attr_\"real\" is constant\n",
      "WARNING:tsfresh.feature_selection.relevance:[test_feature_significance] Feature x__fft_coefficient__coeff_58__attr_\"angle\" is constant\n",
      "WARNING:tsfresh.feature_selection.relevance:[test_feature_significance] Feature x__fft_coefficient__coeff_50__attr_\"imag\" is constant\n",
      "WARNING:tsfresh.feature_selection.relevance:[test_feature_significance] Feature x__fft_coefficient__coeff_66__attr_\"abs\" is constant\n",
      "WARNING:tsfresh.feature_selection.relevance:[test_feature_significance] Feature x__fft_coefficient__coeff_58__attr_\"imag\" is constant\n",
      "WARNING:tsfresh.feature_selection.relevance:[test_feature_significance] Feature x__fft_coefficient__coeff_50__attr_\"real\" is constant\n",
      "WARNING:tsfresh.feature_selection.relevance:[test_feature_significance] Feature x__fft_coefficient__coeff_58__attr_\"real\" is constant\n",
      "WARNING:tsfresh.feature_selection.relevance:[test_feature_significance] Feature x__fft_coefficient__coeff_66__attr_\"angle\" is constant\n",
      "WARNING:tsfresh.feature_selection.relevance:[test_feature_significance] Feature x__fft_coefficient__coeff_51__attr_\"abs\" is constant\n",
      "WARNING:tsfresh.feature_selection.relevance:[test_feature_significance] Feature x__fft_coefficient__coeff_59__attr_\"abs\" is constant\n",
      "WARNING:tsfresh.feature_selection.relevance:[test_feature_significance] Feature x__fft_coefficient__coeff_66__attr_\"imag\" is constant\n",
      "WARNING:tsfresh.feature_selection.relevance:[test_feature_significance] Feature x__fft_coefficient__coeff_51__attr_\"angle\" is constant\n",
      "WARNING:tsfresh.feature_selection.relevance:[test_feature_significance] Feature x__fft_coefficient__coeff_66__attr_\"real\" is constant\n",
      "WARNING:tsfresh.feature_selection.relevance:[test_feature_significance] Feature x__fft_coefficient__coeff_59__attr_\"angle\" is constant\n",
      "WARNING:tsfresh.feature_selection.relevance:[test_feature_significance] Feature x__fft_coefficient__coeff_67__attr_\"abs\" is constant\n",
      "WARNING:tsfresh.feature_selection.relevance:[test_feature_significance] Feature x__fft_coefficient__coeff_59__attr_\"imag\" is constant\n",
      "WARNING:tsfresh.feature_selection.relevance:[test_feature_significance] Feature x__fft_coefficient__coeff_51__attr_\"imag\" is constant\n",
      "WARNING:tsfresh.feature_selection.relevance:[test_feature_significance] Feature x__fft_coefficient__coeff_67__attr_\"angle\" is constant\n",
      "WARNING:tsfresh.feature_selection.relevance:[test_feature_significance] Feature x__fft_coefficient__coeff_59__attr_\"real\" is constant\n",
      "WARNING:tsfresh.feature_selection.relevance:[test_feature_significance] Feature x__fft_coefficient__coeff_51__attr_\"real\" is constant\n",
      "WARNING:tsfresh.feature_selection.relevance:[test_feature_significance] Feature x__fft_coefficient__coeff_67__attr_\"imag\" is constant\n",
      "WARNING:tsfresh.feature_selection.relevance:[test_feature_significance] Feature x__fft_coefficient__coeff_52__attr_\"abs\" is constant\n",
      "WARNING:tsfresh.feature_selection.relevance:[test_feature_significance] Feature x__fft_coefficient__coeff_67__attr_\"real\" is constant\n",
      "WARNING:tsfresh.feature_selection.relevance:[test_feature_significance] Feature x__fft_coefficient__coeff_52__attr_\"angle\" is constant\n",
      "WARNING:tsfresh.feature_selection.relevance:[test_feature_significance] Feature x__fft_coefficient__coeff_68__attr_\"abs\" is constant\n",
      "WARNING:tsfresh.feature_selection.relevance:[test_feature_significance] Feature x__fft_coefficient__coeff_52__attr_\"imag\" is constant\n",
      "WARNING:tsfresh.feature_selection.relevance:[test_feature_significance] Feature x__fft_coefficient__coeff_68__attr_\"angle\" is constant\n",
      "WARNING:tsfresh.feature_selection.relevance:[test_feature_significance] Feature x__fft_coefficient__coeff_76__attr_\"abs\" is constant\n",
      "WARNING:tsfresh.feature_selection.relevance:[test_feature_significance] Feature x__fft_coefficient__coeff_52__attr_\"real\" is constant\n",
      "WARNING:tsfresh.feature_selection.relevance:[test_feature_significance] Feature x__fft_coefficient__coeff_60__attr_\"abs\" is constant\n",
      "WARNING:tsfresh.feature_selection.relevance:[test_feature_significance] Feature x__fft_coefficient__coeff_68__attr_\"imag\" is constant\n",
      "WARNING:tsfresh.feature_selection.relevance:[test_feature_significance] Feature x__fft_coefficient__coeff_76__attr_\"angle\" is constant\n",
      "WARNING:tsfresh.feature_selection.relevance:[test_feature_significance] Feature x__fft_coefficient__coeff_68__attr_\"real\" is constant\n",
      "WARNING:tsfresh.feature_selection.relevance:[test_feature_significance] Feature x__fft_coefficient__coeff_76__attr_\"imag\" is constant\n",
      "WARNING:tsfresh.feature_selection.relevance:[test_feature_significance] Feature x__fft_coefficient__coeff_60__attr_\"angle\" is constant\n",
      "WARNING:tsfresh.feature_selection.relevance:[test_feature_significance] Feature x__fft_coefficient__coeff_69__attr_\"abs\" is constant\n",
      "WARNING:tsfresh.feature_selection.relevance:[test_feature_significance] Feature x__fft_coefficient__coeff_60__attr_\"imag\" is constant\n",
      "WARNING:tsfresh.feature_selection.relevance:[test_feature_significance] Feature x__fft_coefficient__coeff_76__attr_\"real\" is constant\n",
      "WARNING:tsfresh.feature_selection.relevance:[test_feature_significance] Feature x__fft_coefficient__coeff_69__attr_\"angle\" is constant\n",
      "WARNING:tsfresh.feature_selection.relevance:[test_feature_significance] Feature x__fft_coefficient__coeff_77__attr_\"abs\" is constant\n",
      "WARNING:tsfresh.feature_selection.relevance:[test_feature_significance] Feature x__fft_coefficient__coeff_60__attr_\"real\" is constant\n",
      "WARNING:tsfresh.feature_selection.relevance:[test_feature_significance] Feature x__fft_coefficient__coeff_77__attr_\"angle\" is constant\n",
      "WARNING:tsfresh.feature_selection.relevance:[test_feature_significance] Feature x__fft_coefficient__coeff_69__attr_\"imag\" is constant\n",
      "WARNING:tsfresh.feature_selection.relevance:[test_feature_significance] Feature x__fft_coefficient__coeff_61__attr_\"abs\" is constant\n",
      "WARNING:tsfresh.feature_selection.relevance:[test_feature_significance] Feature x__fft_coefficient__coeff_77__attr_\"imag\" is constant\n",
      "WARNING:tsfresh.feature_selection.relevance:[test_feature_significance] Feature x__fft_coefficient__coeff_69__attr_\"real\" is constant\n",
      "WARNING:tsfresh.feature_selection.relevance:[test_feature_significance] Feature x__fft_coefficient__coeff_61__attr_\"angle\" is constant\n",
      "WARNING:tsfresh.feature_selection.relevance:[test_feature_significance] Feature x__fft_coefficient__coeff_77__attr_\"real\" is constant\n",
      "WARNING:tsfresh.feature_selection.relevance:[test_feature_significance] Feature x__fft_coefficient__coeff_78__attr_\"abs\" is constant\n",
      "WARNING:tsfresh.feature_selection.relevance:[test_feature_significance] Feature x__fft_coefficient__coeff_61__attr_\"imag\" is constant\n",
      "WARNING:tsfresh.feature_selection.relevance:[test_feature_significance] Feature x__fft_coefficient__coeff_78__attr_\"angle\" is constant\n",
      "WARNING:tsfresh.feature_selection.relevance:[test_feature_significance] Feature x__fft_coefficient__coeff_61__attr_\"real\" is constant\n"
     ]
    },
    {
     "name": "stderr",
     "output_type": "stream",
     "text": [
      "WARNING:tsfresh.feature_selection.relevance:[test_feature_significance] Feature x__fft_coefficient__coeff_78__attr_\"imag\" is constant\n",
      "WARNING:tsfresh.feature_selection.relevance:[test_feature_significance] Feature x__fft_coefficient__coeff_62__attr_\"abs\" is constant\n",
      "WARNING:tsfresh.feature_selection.relevance:[test_feature_significance] Feature x__fft_coefficient__coeff_78__attr_\"real\" is constant\n",
      "WARNING:tsfresh.feature_selection.relevance:[test_feature_significance] Feature x__fft_coefficient__coeff_70__attr_\"abs\" is constant\n",
      "WARNING:tsfresh.feature_selection.relevance:[test_feature_significance] Feature x__fft_coefficient__coeff_62__attr_\"angle\" is constant\n",
      "WARNING:tsfresh.feature_selection.relevance:[test_feature_significance] Feature x__fft_coefficient__coeff_79__attr_\"abs\" is constant\n",
      "WARNING:tsfresh.feature_selection.relevance:[test_feature_significance] Feature x__fft_coefficient__coeff_70__attr_\"angle\" is constant\n",
      "WARNING:tsfresh.feature_selection.relevance:[test_feature_significance] Feature x__fft_coefficient__coeff_62__attr_\"imag\" is constant\n",
      "WARNING:tsfresh.feature_selection.relevance:[test_feature_significance] Feature x__fft_coefficient__coeff_79__attr_\"angle\" is constant\n",
      "WARNING:tsfresh.feature_selection.relevance:[test_feature_significance] Feature x__fft_coefficient__coeff_70__attr_\"imag\" is constant\n",
      "WARNING:tsfresh.feature_selection.relevance:[test_feature_significance] Feature x__fft_coefficient__coeff_79__attr_\"imag\" is constant\n",
      "WARNING:tsfresh.feature_selection.relevance:[test_feature_significance] Feature x__fft_coefficient__coeff_62__attr_\"real\" is constant\n",
      "WARNING:tsfresh.feature_selection.relevance:[test_feature_significance] Feature x__fft_coefficient__coeff_63__attr_\"abs\" is constant\n",
      "WARNING:tsfresh.feature_selection.relevance:[test_feature_significance] Feature x__fft_coefficient__coeff_63__attr_\"angle\" is constant\n",
      "WARNING:tsfresh.feature_selection.relevance:[test_feature_significance] Feature x__fft_coefficient__coeff_81__attr_\"abs\" is constant\n",
      "WARNING:tsfresh.feature_selection.relevance:[test_feature_significance] Feature x__fft_coefficient__coeff_79__attr_\"real\" is constant\n",
      "WARNING:tsfresh.feature_selection.relevance:[test_feature_significance] Feature x__fft_coefficient__coeff_70__attr_\"real\" is constant\n",
      "WARNING:tsfresh.feature_selection.relevance:[test_feature_significance] Feature x__fft_coefficient__coeff_71__attr_\"abs\" is constant\n",
      "WARNING:tsfresh.feature_selection.relevance:[test_feature_significance] Feature x__fft_coefficient__coeff_87__attr_\"imag\" is constant\n",
      "WARNING:tsfresh.feature_selection.relevance:[test_feature_significance] Feature x__fft_coefficient__coeff_71__attr_\"angle\" is constant\n",
      "WARNING:tsfresh.feature_selection.relevance:[test_feature_significance] Feature x__fft_coefficient__coeff_63__attr_\"imag\" is constant\n",
      "WARNING:tsfresh.feature_selection.relevance:[test_feature_significance] Feature x__fft_coefficient__coeff_87__attr_\"real\" is constant\n",
      "WARNING:tsfresh.feature_selection.relevance:[test_feature_significance] Feature x__fft_coefficient__coeff_71__attr_\"imag\" is constant\n",
      "WARNING:tsfresh.feature_selection.relevance:[test_feature_significance] Feature x__fft_coefficient__coeff_88__attr_\"abs\" is constant\n",
      "WARNING:tsfresh.feature_selection.relevance:[test_feature_significance] Feature x__fft_coefficient__coeff_63__attr_\"real\" is constant\n",
      "WARNING:tsfresh.feature_selection.relevance:[test_feature_significance] Feature x__fft_coefficient__coeff_80__attr_\"abs\" is constant\n",
      "WARNING:tsfresh.feature_selection.relevance:[test_feature_significance] Feature x__fft_coefficient__coeff_71__attr_\"real\" is constant\n",
      "WARNING:tsfresh.feature_selection.relevance:[test_feature_significance] Feature x__fft_coefficient__coeff_64__attr_\"abs\" is constant\n",
      "WARNING:tsfresh.feature_selection.relevance:[test_feature_significance] Feature x__fft_coefficient__coeff_88__attr_\"angle\" is constant\n",
      "WARNING:tsfresh.feature_selection.relevance:[test_feature_significance] Feature x__fft_coefficient__coeff_72__attr_\"abs\" is constant\n",
      "WARNING:tsfresh.feature_selection.relevance:[test_feature_significance] Feature x__fft_coefficient__coeff_80__attr_\"angle\" is constant\n",
      "WARNING:tsfresh.feature_selection.relevance:[test_feature_significance] Feature x__fft_coefficient__coeff_88__attr_\"imag\" is constant\n",
      "WARNING:tsfresh.feature_selection.relevance:[test_feature_significance] Feature x__fft_coefficient__coeff_64__attr_\"angle\" is constant\n",
      "WARNING:tsfresh.feature_selection.relevance:[test_feature_significance] Feature x__fft_coefficient__coeff_72__attr_\"angle\" is constant\n",
      "WARNING:tsfresh.feature_selection.relevance:[test_feature_significance] Feature x__fft_coefficient__coeff_80__attr_\"imag\" is constant\n",
      "WARNING:tsfresh.feature_selection.relevance:[test_feature_significance] Feature x__fft_coefficient__coeff_88__attr_\"real\" is constant\n",
      "WARNING:tsfresh.feature_selection.relevance:[test_feature_significance] Feature x__fft_coefficient__coeff_72__attr_\"imag\" is constant\n",
      "WARNING:tsfresh.feature_selection.relevance:[test_feature_significance] Feature x__fft_coefficient__coeff_80__attr_\"real\" is constant\n",
      "WARNING:tsfresh.feature_selection.relevance:[test_feature_significance] Feature x__fft_coefficient__coeff_89__attr_\"abs\" is constant\n",
      "WARNING:tsfresh.feature_selection.relevance:[test_feature_significance] Feature x__fft_coefficient__coeff_89__attr_\"angle\" is constant\n",
      "WARNING:tsfresh.feature_selection.relevance:[test_feature_significance] Feature x__fft_coefficient__coeff_72__attr_\"real\" is constant\n",
      "WARNING:tsfresh.feature_selection.relevance:[test_feature_significance] Feature x__fft_coefficient__coeff_73__attr_\"abs\" is constant\n",
      "WARNING:tsfresh.feature_selection.relevance:[test_feature_significance] Feature x__fft_coefficient__coeff_89__attr_\"imag\" is constant\n",
      "WARNING:tsfresh.feature_selection.relevance:[test_feature_significance] Feature x__fft_coefficient__coeff_81__attr_\"angle\" is constant\n",
      "WARNING:tsfresh.feature_selection.relevance:[test_feature_significance] Feature x__fft_coefficient__coeff_73__attr_\"angle\" is constant\n",
      "WARNING:tsfresh.feature_selection.relevance:[test_feature_significance] Feature x__fft_coefficient__coeff_89__attr_\"real\" is constant\n",
      "WARNING:tsfresh.feature_selection.relevance:[test_feature_significance] Feature x__fft_coefficient__coeff_81__attr_\"imag\" is constant\n",
      "WARNING:tsfresh.feature_selection.relevance:[test_feature_significance] Feature x__fft_coefficient__coeff_73__attr_\"imag\" is constant\n",
      "WARNING:tsfresh.feature_selection.relevance:[test_feature_significance] Feature x__fft_coefficient__coeff_81__attr_\"real\" is constant\n",
      "WARNING:tsfresh.feature_selection.relevance:[test_feature_significance] Feature x__fft_coefficient__coeff_73__attr_\"real\" is constant\n",
      "WARNING:tsfresh.feature_selection.relevance:[test_feature_significance] Feature x__fft_coefficient__coeff_82__attr_\"abs\" is constant\n",
      "WARNING:tsfresh.feature_selection.relevance:[test_feature_significance] Feature x__fft_coefficient__coeff_82__attr_\"angle\" is constant\n",
      "WARNING:tsfresh.feature_selection.relevance:[test_feature_significance] Feature x__fft_coefficient__coeff_74__attr_\"abs\" is constant\n",
      "WARNING:tsfresh.feature_selection.relevance:[test_feature_significance] Feature x__fft_coefficient__coeff_90__attr_\"abs\" is constant\n",
      "WARNING:tsfresh.feature_selection.relevance:[test_feature_significance] Feature x__fft_coefficient__coeff_82__attr_\"imag\" is constant\n",
      "WARNING:tsfresh.feature_selection.relevance:[test_feature_significance] Feature x__fft_coefficient__coeff_74__attr_\"angle\" is constant\n",
      "WARNING:tsfresh.feature_selection.relevance:[test_feature_significance] Feature x__fft_coefficient__coeff_74__attr_\"imag\" is constant\n",
      "WARNING:tsfresh.feature_selection.relevance:[test_feature_significance] Feature x__fft_coefficient__coeff_90__attr_\"angle\" is constant\n",
      "WARNING:tsfresh.feature_selection.relevance:[test_feature_significance] Feature x__fft_coefficient__coeff_82__attr_\"real\" is constant\n",
      "WARNING:tsfresh.feature_selection.relevance:[test_feature_significance] Feature x__fft_coefficient__coeff_90__attr_\"imag\" is constant\n",
      "WARNING:tsfresh.feature_selection.relevance:[test_feature_significance] Feature x__fft_coefficient__coeff_83__attr_\"abs\" is constant\n",
      "WARNING:tsfresh.feature_selection.relevance:[test_feature_significance] Feature x__fft_coefficient__coeff_74__attr_\"real\" is constant\n"
     ]
    },
    {
     "name": "stderr",
     "output_type": "stream",
     "text": [
      "WARNING:tsfresh.feature_selection.relevance:[test_feature_significance] Feature x__fft_coefficient__coeff_90__attr_\"real\" is constant\n",
      "WARNING:tsfresh.feature_selection.relevance:[test_feature_significance] Feature x__fft_coefficient__coeff_91__attr_\"abs\" is constant\n",
      "WARNING:tsfresh.feature_selection.relevance:[test_feature_significance] Feature x__fft_coefficient__coeff_83__attr_\"angle\" is constant\n",
      "WARNING:tsfresh.feature_selection.relevance:[test_feature_significance] Feature x__fft_coefficient__coeff_83__attr_\"imag\" is constant\n",
      "WARNING:tsfresh.feature_selection.relevance:[test_feature_significance] Feature x__fft_coefficient__coeff_91__attr_\"angle\" is constant\n",
      "WARNING:tsfresh.feature_selection.relevance:[test_feature_significance] Feature x__fft_coefficient__coeff_83__attr_\"real\" is constant\n",
      "WARNING:tsfresh.feature_selection.relevance:[test_feature_significance] Feature x__fft_coefficient__coeff_91__attr_\"imag\" is constant\n",
      "WARNING:tsfresh.feature_selection.relevance:[test_feature_significance] Feature x__fft_coefficient__coeff_75__attr_\"abs\" is constant\n",
      "WARNING:tsfresh.feature_selection.relevance:[test_feature_significance] Feature x__fft_coefficient__coeff_84__attr_\"abs\" is constant\n",
      "WARNING:tsfresh.feature_selection.relevance:[test_feature_significance] Feature x__fft_coefficient__coeff_91__attr_\"real\" is constant\n",
      "WARNING:tsfresh.feature_selection.relevance:[test_feature_significance] Feature x__fft_coefficient__coeff_75__attr_\"angle\" is constant\n",
      "WARNING:tsfresh.feature_selection.relevance:[test_feature_significance] Feature x__fft_coefficient__coeff_92__attr_\"abs\" is constant\n",
      "WARNING:tsfresh.feature_selection.relevance:[test_feature_significance] Feature x__fft_coefficient__coeff_84__attr_\"angle\" is constant\n",
      "WARNING:tsfresh.feature_selection.relevance:[test_feature_significance] Feature x__fft_coefficient__coeff_92__attr_\"angle\" is constant\n",
      "WARNING:tsfresh.feature_selection.relevance:[test_feature_significance] Feature x__fft_coefficient__coeff_84__attr_\"imag\" is constant\n",
      "WARNING:tsfresh.feature_selection.relevance:[test_feature_significance] Feature x__fft_coefficient__coeff_99__attr_\"abs\" is constant\n",
      "WARNING:tsfresh.feature_selection.relevance:[test_feature_significance] Feature x__fft_coefficient__coeff_75__attr_\"imag\" is constant\n",
      "WARNING:tsfresh.feature_selection.relevance:[test_feature_significance] Feature x__fft_coefficient__coeff_84__attr_\"real\" is constant\n",
      "WARNING:tsfresh.feature_selection.relevance:[test_feature_significance] Feature x__fft_coefficient__coeff_92__attr_\"imag\" is constant\n",
      "WARNING:tsfresh.feature_selection.relevance:[test_feature_significance] Feature x__fft_coefficient__coeff_75__attr_\"real\" is constant\n",
      "WARNING:tsfresh.feature_selection.relevance:[test_feature_significance] Feature x__fft_coefficient__coeff_99__attr_\"angle\" is constant\n",
      "WARNING:tsfresh.feature_selection.relevance:[test_feature_significance] Feature x__fft_coefficient__coeff_92__attr_\"real\" is constant\n",
      "WARNING:tsfresh.feature_selection.relevance:[test_feature_significance] Feature x__fft_coefficient__coeff_85__attr_\"abs\" is constant\n",
      "WARNING:tsfresh.feature_selection.relevance:[test_feature_significance] Feature x__fft_coefficient__coeff_99__attr_\"imag\" is constant\n",
      "WARNING:tsfresh.feature_selection.relevance:[test_feature_significance] Feature x__fft_coefficient__coeff_93__attr_\"abs\" is constant\n",
      "WARNING:tsfresh.feature_selection.relevance:[test_feature_significance] Feature x__fft_coefficient__coeff_85__attr_\"angle\" is constant\n",
      "WARNING:tsfresh.feature_selection.relevance:[test_feature_significance] Feature x__fft_coefficient__coeff_93__attr_\"angle\" is constant\n",
      "WARNING:tsfresh.feature_selection.relevance:[test_feature_significance] Feature x__fft_coefficient__coeff_99__attr_\"real\" is constant\n",
      "WARNING:tsfresh.feature_selection.relevance:[test_feature_significance] Feature x__fft_coefficient__coeff_85__attr_\"imag\" is constant\n",
      "WARNING:tsfresh.feature_selection.relevance:[test_feature_significance] Feature x__fft_coefficient__coeff_93__attr_\"imag\" is constant\n",
      "WARNING:tsfresh.feature_selection.relevance:[test_feature_significance] Feature x__fft_coefficient__coeff_85__attr_\"real\" is constant\n",
      "WARNING:tsfresh.feature_selection.relevance:[test_feature_significance] Feature x__fft_coefficient__coeff_93__attr_\"real\" is constant\n",
      "WARNING:tsfresh.feature_selection.relevance:[test_feature_significance] Feature x__fft_coefficient__coeff_86__attr_\"abs\" is constant\n",
      "WARNING:tsfresh.feature_selection.relevance:[test_feature_significance] Feature x__fft_coefficient__coeff_94__attr_\"abs\" is constant\n",
      "WARNING:tsfresh.feature_selection.relevance:[test_feature_significance] Feature x__fft_coefficient__coeff_86__attr_\"angle\" is constant\n",
      "WARNING:tsfresh.feature_selection.relevance:[test_feature_significance] Feature x__fft_coefficient__coeff_94__attr_\"angle\" is constant\n",
      "WARNING:tsfresh.feature_selection.relevance:[test_feature_significance] Feature x__fft_coefficient__coeff_86__attr_\"imag\" is constant\n",
      "WARNING:tsfresh.feature_selection.relevance:[test_feature_significance] Feature x__fft_coefficient__coeff_94__attr_\"imag\" is constant\n",
      "WARNING:tsfresh.feature_selection.relevance:[test_feature_significance] Feature x__fft_coefficient__coeff_86__attr_\"real\" is constant\n",
      "WARNING:tsfresh.feature_selection.relevance:[test_feature_significance] Feature x__fft_coefficient__coeff_94__attr_\"real\" is constant\n",
      "WARNING:tsfresh.feature_selection.relevance:[test_feature_significance] Feature x__fft_coefficient__coeff_87__attr_\"abs\" is constant\n",
      "WARNING:tsfresh.feature_selection.relevance:[test_feature_significance] Feature x__fft_coefficient__coeff_95__attr_\"abs\" is constant\n",
      "WARNING:tsfresh.feature_selection.relevance:[test_feature_significance] Feature x__fft_coefficient__coeff_87__attr_\"angle\" is constant\n",
      "WARNING:tsfresh.feature_selection.relevance:[test_feature_significance] Feature x__fft_coefficient__coeff_95__attr_\"angle\" is constant\n",
      "WARNING:tsfresh.feature_selection.relevance:[test_feature_significance] Feature x__fft_coefficient__coeff_95__attr_\"imag\" is constant\n",
      "WARNING:tsfresh.feature_selection.relevance:[test_feature_significance] Feature x__fft_coefficient__coeff_95__attr_\"real\" is constant\n",
      "WARNING:tsfresh.feature_selection.relevance:[test_feature_significance] Feature x__has_duplicate is constant\n",
      "WARNING:tsfresh.feature_selection.relevance:[test_feature_significance] Feature x__fft_coefficient__coeff_96__attr_\"abs\" is constant\n",
      "WARNING:tsfresh.feature_selection.relevance:[test_feature_significance] Feature x__fft_coefficient__coeff_96__attr_\"angle\" is constant\n",
      "WARNING:tsfresh.feature_selection.relevance:[test_feature_significance] Feature x__has_duplicate_max is constant\n",
      "WARNING:tsfresh.feature_selection.relevance:[test_feature_significance] Feature x__has_duplicate_min is constant\n",
      "WARNING:tsfresh.feature_selection.relevance:[test_feature_significance] Feature x__fft_coefficient__coeff_96__attr_\"imag\" is constant\n",
      "WARNING:tsfresh.feature_selection.relevance:[test_feature_significance] Feature x__fft_coefficient__coeff_96__attr_\"real\" is constant\n",
      "WARNING:tsfresh.feature_selection.relevance:[test_feature_significance] Feature x__fft_coefficient__coeff_97__attr_\"abs\" is constant\n",
      "WARNING:tsfresh.feature_selection.relevance:[test_feature_significance] Feature x__fft_coefficient__coeff_97__attr_\"angle\" is constant\n",
      "WARNING:tsfresh.feature_selection.relevance:[test_feature_significance] Feature x__fft_coefficient__coeff_97__attr_\"imag\" is constant\n",
      "WARNING:tsfresh.feature_selection.relevance:[test_feature_significance] Feature x__fft_coefficient__coeff_97__attr_\"real\" is constant\n",
      "WARNING:tsfresh.feature_selection.relevance:[test_feature_significance] Feature x__fft_coefficient__coeff_98__attr_\"abs\" is constant\n",
      "WARNING:tsfresh.feature_selection.relevance:[test_feature_significance] Feature x__large_standard_deviation__r_0.05 is constant\n",
      "WARNING:tsfresh.feature_selection.relevance:[test_feature_significance] Feature x__fft_coefficient__coeff_98__attr_\"angle\" is constant\n",
      "WARNING:tsfresh.feature_selection.relevance:[test_feature_significance] Feature x__large_standard_deviation__r_0.1 is constant\n",
      "WARNING:tsfresh.feature_selection.relevance:[test_feature_significance] Feature x__fft_coefficient__coeff_98__attr_\"imag\" is constant\n"
     ]
    },
    {
     "name": "stderr",
     "output_type": "stream",
     "text": [
      "WARNING:tsfresh.feature_selection.relevance:[test_feature_significance] Feature x__number_crossing_m__m_-1 is constant\n",
      "WARNING:tsfresh.feature_selection.relevance:[test_feature_significance] Feature x__number_crossing_m__m_0 is constant\n",
      "WARNING:tsfresh.feature_selection.relevance:[test_feature_significance] Feature x__fft_coefficient__coeff_98__attr_\"real\" is constant\n",
      "WARNING:tsfresh.feature_selection.relevance:[test_feature_significance] Feature x__large_standard_deviation__r_0.35000000000000003 is constant\n",
      "WARNING:tsfresh.feature_selection.relevance:[test_feature_significance] Feature x__large_standard_deviation__r_0.4 is constant\n",
      "WARNING:tsfresh.feature_selection.relevance:[test_feature_significance] Feature x__large_standard_deviation__r_0.45 is constant\n",
      "WARNING:tsfresh.feature_selection.relevance:[test_feature_significance] Feature x__large_standard_deviation__r_0.5 is constant\n",
      "WARNING:tsfresh.feature_selection.relevance:[test_feature_significance] Feature x__number_peaks__n_50 is constant\n",
      "WARNING:tsfresh.feature_selection.relevance:[test_feature_significance] Feature x__large_standard_deviation__r_0.55 is constant\n",
      "WARNING:tsfresh.feature_selection.relevance:[test_feature_significance] Feature x__large_standard_deviation__r_0.6000000000000001 is constant\n",
      "WARNING:tsfresh.feature_selection.relevance:[test_feature_significance] Feature x__partial_autocorrelation__lag_0 is constant\n",
      "WARNING:tsfresh.feature_selection.relevance:[test_feature_significance] Feature x__large_standard_deviation__r_0.65 is constant\n",
      "WARNING:tsfresh.feature_selection.relevance:[test_feature_significance] Feature x__large_standard_deviation__r_0.7000000000000001 is constant\n",
      "WARNING:tsfresh.feature_selection.relevance:[test_feature_significance] Feature x__ratio_beyond_r_sigma__r_7 is constant\n",
      "WARNING:tsfresh.feature_selection.relevance:[test_feature_significance] Feature x__ratio_value_number_to_time_series_length is constant\n",
      "WARNING:tsfresh.feature_selection.relevance:[test_feature_significance] Feature x__large_standard_deviation__r_0.75 is constant\n",
      "WARNING:tsfresh.feature_selection.relevance:[test_feature_significance] Feature x__large_standard_deviation__r_0.8 is constant\n",
      "WARNING:tsfresh.feature_selection.relevance:[test_feature_significance] Feature x__large_standard_deviation__r_0.8500000000000001 is constant\n",
      "WARNING:tsfresh.feature_selection.relevance:[test_feature_significance] Feature x__large_standard_deviation__r_0.9 is constant\n",
      "WARNING:tsfresh.feature_selection.relevance:[test_feature_significance] Feature x__large_standard_deviation__r_0.9500000000000001 is constant\n",
      "WARNING:tsfresh.feature_selection.relevance:[test_feature_significance] Feature x__percentage_of_reoccurring_datapoints_to_all_datapoints is constant\n",
      "WARNING:tsfresh.feature_selection.relevance:[test_feature_significance] Feature x__percentage_of_reoccurring_values_to_all_values is constant\n",
      "WARNING:tsfresh.feature_selection.relevance:[test_feature_significance] Feature x__length is constant\n",
      "WARNING:tsfresh.feature_selection.relevance:[test_feature_significance] Feature x__sum_of_reoccurring_data_points is constant\n",
      "WARNING:tsfresh.feature_selection.relevance:[test_feature_significance] Feature x__sum_of_reoccurring_values is constant\n",
      "WARNING:tsfresh.feature_selection.relevance:[test_feature_significance] Feature x__symmetry_looking__r_0.0 is constant\n",
      "WARNING:tsfresh.feature_selection.relevance:[test_feature_significance] Feature x__range_count__max_0__min_1000000000000.0 is constant\n",
      "WARNING:tsfresh.feature_selection.relevance:[test_feature_significance] Feature x__symmetry_looking__r_0.25 is constant\n",
      "WARNING:tsfresh.feature_selection.relevance:[test_feature_significance] Feature x__range_count__max_1000000000000.0__min_0 is constant\n",
      "WARNING:tsfresh.feature_selection.relevance:[test_feature_significance] Feature x__symmetry_looking__r_0.30000000000000004 is constant\n",
      "WARNING:tsfresh.feature_selection.relevance:[test_feature_significance] Feature x__symmetry_looking__r_0.35000000000000003 is constant\n",
      "WARNING:tsfresh.feature_selection.relevance:[test_feature_significance] Feature x__symmetry_looking__r_0.4 is constant\n",
      "WARNING:tsfresh.feature_selection.relevance:[test_feature_significance] Feature x__ratio_beyond_r_sigma__r_10 is constant\n",
      "WARNING:tsfresh.feature_selection.relevance:[test_feature_significance] Feature x__symmetry_looking__r_0.45 is constant\n",
      "WARNING:tsfresh.feature_selection.relevance:[test_feature_significance] Feature x__symmetry_looking__r_0.5 is constant\n",
      "WARNING:tsfresh.feature_selection.relevance:[test_feature_significance] Feature x__symmetry_looking__r_0.55 is constant\n",
      "WARNING:tsfresh.feature_selection.relevance:[test_feature_significance] Feature x__symmetry_looking__r_0.6000000000000001 is constant\n",
      "WARNING:tsfresh.feature_selection.relevance:[test_feature_significance] Feature x__symmetry_looking__r_0.65 is constant\n",
      "WARNING:tsfresh.feature_selection.relevance:[test_feature_significance] Feature x__symmetry_looking__r_0.7000000000000001 is constant\n",
      "WARNING:tsfresh.feature_selection.relevance:[test_feature_significance] Feature x__symmetry_looking__r_0.75 is constant\n",
      "WARNING:tsfresh.feature_selection.relevance:[test_feature_significance] Feature x__symmetry_looking__r_0.8 is constant\n",
      "WARNING:tsfresh.feature_selection.relevance:[test_feature_significance] Feature x__symmetry_looking__r_0.8500000000000001 is constant\n",
      "WARNING:tsfresh.feature_selection.relevance:[test_feature_significance] Feature x__symmetry_looking__r_0.9 is constant\n",
      "WARNING:tsfresh.feature_selection.relevance:[test_feature_significance] Feature x__symmetry_looking__r_0.9500000000000001 is constant\n",
      "WARNING:tsfresh.feature_selection.relevance:[test_feature_significance] Feature x__value_count__value_-1 is constant\n",
      "WARNING:tsfresh.feature_selection.relevance:[test_feature_significance] Feature x__value_count__value_0 is constant\n",
      "WARNING:tsfresh.feature_selection.relevance:[test_feature_significance] Feature x__value_count__value_1 is constant\n",
      "WARNING:tsfresh.feature_selection.significance_tests:[target_binary_feature_binary_test] A binary feature should have only values 1 and 0 (incl. True and False). Instead found {0.0, 0.02040816326530612} in feature ''x__ratio_beyond_r_sigma__r_5''.\n",
      "WARNING:tsfresh.feature_selection.significance_tests:[target_binary_feature_binary_test] A binary feature should have only values 1 and 0 (incl. True and False). Instead found {0.0, 0.02040816326530612} in feature ''x__ratio_beyond_r_sigma__r_6''.\n",
      "WARNING:tsfresh.feature_selection.significance_tests:[target_binary_feature_binary_test] A binary feature should have only values 1 and 0 (incl. True and False). Instead found {0.0, 0.02040816326530612} in feature ''x__ratio_beyond_r_sigma__r_5''.\n",
      "WARNING:tsfresh.feature_selection.significance_tests:[target_binary_feature_binary_test] A binary feature should have only values 1 and 0 (incl. True and False). Instead found {0.0, 0.02040816326530612} in feature ''x__ratio_beyond_r_sigma__r_6''.\n"
     ]
    }
   ],
   "source": [
    "impute(extracted_features)\n",
    "features_filtered = select_features(extracted_features, y.TARGET)"
   ]
  },
  {
   "cell_type": "code",
   "execution_count": 1,
   "metadata": {
    "ExecuteTime": {
     "end_time": "2019-11-20T15:11:20.629400Z",
     "start_time": "2019-11-20T15:11:20.478344Z"
    }
   },
   "outputs": [
    {
     "ename": "NameError",
     "evalue": "name 'features_filtered' is not defined",
     "output_type": "error",
     "traceback": [
      "\u001b[0;31m---------------------------------------------------------------------------\u001b[0m",
      "\u001b[0;31mNameError\u001b[0m                                 Traceback (most recent call last)",
      "\u001b[0;32m<ipython-input-1-4daf7363ad98>\u001b[0m in \u001b[0;36m<module>\u001b[0;34m\u001b[0m\n\u001b[0;32m----> 1\u001b[0;31m \u001b[0mfeatures_filtered\u001b[0m\u001b[0;34m\u001b[0m\u001b[0;34m\u001b[0m\u001b[0m\n\u001b[0m",
      "\u001b[0;31mNameError\u001b[0m: name 'features_filtered' is not defined"
     ]
    }
   ],
   "source": [
    "features_filtered"
   ]
  },
  {
   "cell_type": "code",
   "execution_count": 5,
   "metadata": {
    "ExecuteTime": {
     "end_time": "2019-11-20T15:25:08.923556Z",
     "start_time": "2019-11-20T15:25:08.870073Z"
    }
   },
   "outputs": [],
   "source": [
    "tsfresh_features = pd.read_pickle(\"tsfresh_features.pkl\")"
   ]
  },
  {
   "cell_type": "code",
   "execution_count": 148,
   "metadata": {
    "ExecuteTime": {
     "end_time": "2019-11-08T09:36:02.973255Z",
     "start_time": "2019-11-08T09:36:02.854673Z"
    }
   },
   "outputs": [],
   "source": [
    "tsfresh_features_ts = tsfresh_features.join(x.drop(['ID', 'neuron_id'], axis=1))\n",
    "tsfresh_ts_inter = tsfresh_features_ts.join(df_inter_unmelted)\n",
    "tsfresh_inter = tsfresh_features.join(df_inter_unmelted)"
   ]
  },
  {
   "cell_type": "code",
   "execution_count": 192,
   "metadata": {
    "ExecuteTime": {
     "end_time": "2019-11-08T09:53:21.922841Z",
     "start_time": "2019-11-08T09:53:21.871326Z"
    }
   },
   "outputs": [],
   "source": [
    "X_train, X_test, y_train, y_test = train_test_split(tsfresh_ts_inter, y.TARGET, test_size=0.2, random_state=42)"
   ]
  },
  {
   "cell_type": "code",
   "execution_count": 193,
   "metadata": {
    "ExecuteTime": {
     "end_time": "2019-11-08T09:53:23.652409Z",
     "start_time": "2019-11-08T09:53:23.517149Z"
    }
   },
   "outputs": [],
   "source": [
    "from sklearn.preprocessing import StandardScaler\n",
    "scaler = StandardScaler()\n",
    "scaler.fit(X_train)\n",
    "X_train = scaler.transform(X_train)\n",
    "X_test = scaler.transform(X_test) "
   ]
  },
  {
   "cell_type": "code",
   "execution_count": 194,
   "metadata": {
    "ExecuteTime": {
     "end_time": "2019-11-08T09:53:28.087301Z",
     "start_time": "2019-11-08T09:53:23.755371Z"
    }
   },
   "outputs": [
    {
     "name": "stdout",
     "output_type": "stream",
     "text": [
      "[[2652   65]\n",
      " [ 525   85]]\n"
     ]
    },
    {
     "data": {
      "text/plain": [
       "0.16311521538933793"
      ]
     },
     "execution_count": 194,
     "metadata": {},
     "output_type": "execute_result"
    }
   ],
   "source": [
    "log_clf = LogisticRegression(solver=\"liblinear\")\n",
    "log_clf.fit(X_train, y_train)\n",
    "preds = log_clf.predict(X_test)\n",
    "print(confusion_matrix(y_test, preds))\n",
    "cohen_kappa_score(y_test, preds)"
   ]
  },
  {
   "cell_type": "code",
   "execution_count": 195,
   "metadata": {
    "ExecuteTime": {
     "end_time": "2019-11-08T09:53:29.444266Z",
     "start_time": "2019-11-08T09:53:28.089243Z"
    }
   },
   "outputs": [
    {
     "name": "stdout",
     "output_type": "stream",
     "text": [
      "[[2606  111]\n",
      " [ 521   89]]\n"
     ]
    },
    {
     "data": {
      "text/plain": [
       "0.14207444703309446"
      ]
     },
     "execution_count": 195,
     "metadata": {},
     "output_type": "execute_result"
    }
   ],
   "source": [
    "sgd_clf = SGDClassifier(n_jobs=-1)\n",
    "sgd_clf.fit(X_train, y_train)\n",
    "preds = sgd_clf.predict(X_test)\n",
    "print(confusion_matrix(y_test, preds))\n",
    "cohen_kappa_score(y_test, preds)"
   ]
  },
  {
   "cell_type": "code",
   "execution_count": 196,
   "metadata": {
    "ExecuteTime": {
     "end_time": "2019-11-08T09:53:30.795973Z",
     "start_time": "2019-11-08T09:53:29.446765Z"
    }
   },
   "outputs": [
    {
     "name": "stdout",
     "output_type": "stream",
     "text": [
      "[[2572  145]\n",
      " [ 519   91]]\n"
     ]
    },
    {
     "data": {
      "text/plain": [
       "0.12569408110587554"
      ]
     },
     "execution_count": 196,
     "metadata": {},
     "output_type": "execute_result"
    }
   ],
   "source": [
    "sgd_clf = SGDClassifier(penalty='l2', max_iter=5000, n_jobs=-1)\n",
    "sgd_clf.fit(X_train, y_train)\n",
    "preds = sgd_clf.predict(X_test)\n",
    "print(confusion_matrix(y_test, preds))\n",
    "cohen_kappa_score(y_test, preds)"
   ]
  },
  {
   "cell_type": "code",
   "execution_count": 197,
   "metadata": {
    "ExecuteTime": {
     "end_time": "2019-11-08T09:53:49.313954Z",
     "start_time": "2019-11-08T09:53:30.798040Z"
    }
   },
   "outputs": [
    {
     "name": "stdout",
     "output_type": "stream",
     "text": [
      "[[2347  370]\n",
      " [ 432  178]]\n"
     ]
    },
    {
     "name": "stderr",
     "output_type": "stream",
     "text": [
      "/Users/philippenguyen/code/topollini/venv_tsf/lib/python3.7/site-packages/sklearn/neural_network/multilayer_perceptron.py:566: ConvergenceWarning: Stochastic Optimizer: Maximum iterations (200) reached and the optimization hasn't converged yet.\n",
      "  % self.max_iter, ConvergenceWarning)\n"
     ]
    },
    {
     "data": {
      "text/plain": [
       "0.1620084255988965"
      ]
     },
     "execution_count": 197,
     "metadata": {},
     "output_type": "execute_result"
    }
   ],
   "source": [
    "mlp = MLPClassifier()\n",
    "mlp.fit(X_train, y_train)\n",
    "preds = mlp.predict(X_test)\n",
    "print(confusion_matrix(y_test, preds))\n",
    "cohen_kappa_score(y_test, preds)"
   ]
  },
  {
   "cell_type": "code",
   "execution_count": 204,
   "metadata": {
    "ExecuteTime": {
     "end_time": "2019-11-08T09:54:52.937546Z",
     "start_time": "2019-11-08T09:54:50.306486Z"
    }
   },
   "outputs": [
    {
     "name": "stdout",
     "output_type": "stream",
     "text": [
      "[[2666   51]\n",
      " [ 544   66]]\n"
     ]
    },
    {
     "data": {
      "text/plain": [
       "0.13023964527069332"
      ]
     },
     "execution_count": 204,
     "metadata": {},
     "output_type": "execute_result"
    }
   ],
   "source": [
    "rf = RandomForestClassifier(n_jobs=-1, n_estimators=50)\n",
    "rf.fit(X_train, y_train)\n",
    "preds = rf.predict(X_test)\n",
    "print(confusion_matrix(y_test, preds))\n",
    "cohen_kappa_score(y_test, preds)"
   ]
  },
  {
   "cell_type": "code",
   "execution_count": 199,
   "metadata": {
    "ExecuteTime": {
     "end_time": "2019-11-08T09:54:15.768315Z",
     "start_time": "2019-11-08T09:54:15.630853Z"
    }
   },
   "outputs": [
    {
     "name": "stdout",
     "output_type": "stream",
     "text": [
      "[[1778  939]\n",
      " [ 198  412]]\n"
     ]
    },
    {
     "data": {
      "text/plain": [
       "0.22420466498647362"
      ]
     },
     "execution_count": 199,
     "metadata": {},
     "output_type": "execute_result"
    }
   ],
   "source": [
    "gnb = GaussianNB()\n",
    "gnb.fit(X_train, y_train)\n",
    "preds = gnb.predict(X_test)\n",
    "print(confusion_matrix(y_test, preds))\n",
    "cohen_kappa_score(y_test, preds)"
   ]
  },
  {
   "cell_type": "code",
   "execution_count": 36,
   "metadata": {
    "ExecuteTime": {
     "end_time": "2019-11-08T09:02:52.549680Z",
     "start_time": "2019-11-08T09:02:52.547103Z"
    }
   },
   "outputs": [],
   "source": [
    "# features_filtered.to_pickle(\"tsfresh_features.pkl\")"
   ]
  },
  {
   "cell_type": "code",
   "execution_count": 37,
   "metadata": {
    "ExecuteTime": {
     "end_time": "2019-11-08T09:02:52.562068Z",
     "start_time": "2019-11-08T09:02:52.552107Z"
    }
   },
   "outputs": [
    {
     "data": {
      "text/plain": [
       "(13308, 211)"
      ]
     },
     "execution_count": 37,
     "metadata": {},
     "output_type": "execute_result"
    }
   ],
   "source": [
    "X_train.shape"
   ]
  },
  {
   "cell_type": "code",
   "execution_count": 121,
   "metadata": {
    "ExecuteTime": {
     "end_time": "2019-11-08T09:30:50.489811Z",
     "start_time": "2019-11-08T09:28:44.415989Z"
    },
    "scrolled": true
   },
   "outputs": [
    {
     "name": "stdout",
     "output_type": "stream",
     "text": [
      "Fitting 3 folds for each of 80 candidates, totalling 240 fits\n"
     ]
    },
    {
     "name": "stderr",
     "output_type": "stream",
     "text": [
      "/Users/philippenguyen/code/topollini/venv_tsf/lib/python3.7/site-packages/sklearn/model_selection/_split.py:1978: FutureWarning: The default value of cv will change from 3 to 5 in version 0.22. Specify it explicitly to silence this warning.\n",
      "  warnings.warn(CV_WARNING, FutureWarning)\n",
      "[Parallel(n_jobs=-1)]: Using backend LokyBackend with 8 concurrent workers.\n",
      "[Parallel(n_jobs=-1)]: Done   2 tasks      | elapsed:    4.6s\n",
      "[Parallel(n_jobs=-1)]: Done  56 tasks      | elapsed:   30.4s\n",
      "[Parallel(n_jobs=-1)]: Done 146 tasks      | elapsed:  1.2min\n",
      "[Parallel(n_jobs=-1)]: Done 240 out of 240 | elapsed:  2.1min finished\n"
     ]
    },
    {
     "data": {
      "text/plain": [
       "GridSearchCV(cv='warn', error_score='raise-deprecating',\n",
       "             estimator=SGDClassifier(alpha=0.0001, average=False,\n",
       "                                     class_weight=None, early_stopping=False,\n",
       "                                     epsilon=0.1, eta0=0.0, fit_intercept=True,\n",
       "                                     l1_ratio=0.15, learning_rate='optimal',\n",
       "                                     loss='hinge', max_iter=1000,\n",
       "                                     n_iter_no_change=5, n_jobs=-1,\n",
       "                                     penalty='l2', power_t=0.5,\n",
       "                                     random_state=None, shuffle=True, tol=0.001,\n",
       "                                     validation_fraction=0.1, verbose=0,\n",
       "                                     warm_start=False),\n",
       "             iid='warn', n_jobs=-1,\n",
       "             param_grid={'loss': ['hinge', 'log', 'modified_huber',\n",
       "                                  'squared_hinge', 'perceptron'],\n",
       "                         'max_iter': [2000, 5000, 10000, 30000],\n",
       "                         'penalty': ['none', 'l2', 'l1', 'elasticnet']},\n",
       "             pre_dispatch='2*n_jobs', refit=True, return_train_score=True,\n",
       "             scoring=make_scorer(cohen_kappa_score), verbose=5)"
      ]
     },
     "execution_count": 121,
     "metadata": {},
     "output_type": "execute_result"
    }
   ],
   "source": [
    "from sklearn.model_selection import GridSearchCV\n",
    "from sklearn.metrics import make_scorer\n",
    "\n",
    "model = SGDClassifier(n_jobs=-1)\n",
    "\n",
    "param_dist = {'loss': ['hinge', 'log', 'modified_huber', 'squared_hinge', 'perceptron'],\n",
    "              'penalty': ['none', 'l2', 'l1', 'elasticnet'],\n",
    "              'max_iter': [2000, 5000, 10000]}\n",
    "\n",
    "ck = make_scorer(cohen_kappa_score)\n",
    "\n",
    "gs = GridSearchCV(model, param_grid=param_dist, scoring=ck, verbose=5, n_jobs=-1, return_train_score=True, cv=5)\n",
    "gs.fit(X_train, y_train)"
   ]
  },
  {
   "cell_type": "code",
   "execution_count": 123,
   "metadata": {
    "ExecuteTime": {
     "end_time": "2019-11-08T09:30:55.552206Z",
     "start_time": "2019-11-08T09:30:55.548259Z"
    }
   },
   "outputs": [
    {
     "data": {
      "text/plain": [
       "0.24820235548072345"
      ]
     },
     "execution_count": 123,
     "metadata": {},
     "output_type": "execute_result"
    }
   ],
   "source": [
    "gs.best_score_"
   ]
  },
  {
   "cell_type": "code",
   "execution_count": 85,
   "metadata": {
    "ExecuteTime": {
     "end_time": "2019-11-08T09:14:41.586576Z",
     "start_time": "2019-11-08T09:14:41.562153Z"
    }
   },
   "outputs": [
    {
     "data": {
      "text/html": [
       "<div>\n",
       "<style scoped>\n",
       "    .dataframe tbody tr th:only-of-type {\n",
       "        vertical-align: middle;\n",
       "    }\n",
       "\n",
       "    .dataframe tbody tr th {\n",
       "        vertical-align: top;\n",
       "    }\n",
       "\n",
       "    .dataframe thead th {\n",
       "        text-align: right;\n",
       "    }\n",
       "</style>\n",
       "<table border=\"1\" class=\"dataframe\">\n",
       "  <thead>\n",
       "    <tr style=\"text-align: right;\">\n",
       "      <th></th>\n",
       "      <th>mean_test_score</th>\n",
       "    </tr>\n",
       "  </thead>\n",
       "  <tbody>\n",
       "    <tr>\n",
       "      <th>56</th>\n",
       "      <td>0.042671</td>\n",
       "    </tr>\n",
       "    <tr>\n",
       "      <th>35</th>\n",
       "      <td>0.043184</td>\n",
       "    </tr>\n",
       "    <tr>\n",
       "      <th>66</th>\n",
       "      <td>0.046082</td>\n",
       "    </tr>\n",
       "    <tr>\n",
       "      <th>75</th>\n",
       "      <td>0.048349</td>\n",
       "    </tr>\n",
       "    <tr>\n",
       "      <th>9</th>\n",
       "      <td>0.064405</td>\n",
       "    </tr>\n",
       "    <tr>\n",
       "      <th>14</th>\n",
       "      <td>0.065286</td>\n",
       "    </tr>\n",
       "    <tr>\n",
       "      <th>54</th>\n",
       "      <td>0.086679</td>\n",
       "    </tr>\n",
       "    <tr>\n",
       "      <th>26</th>\n",
       "      <td>0.092470</td>\n",
       "    </tr>\n",
       "    <tr>\n",
       "      <th>2</th>\n",
       "      <td>0.097362</td>\n",
       "    </tr>\n",
       "    <tr>\n",
       "      <th>68</th>\n",
       "      <td>0.101589</td>\n",
       "    </tr>\n",
       "    <tr>\n",
       "      <th>71</th>\n",
       "      <td>0.101850</td>\n",
       "    </tr>\n",
       "    <tr>\n",
       "      <th>36</th>\n",
       "      <td>0.102239</td>\n",
       "    </tr>\n",
       "    <tr>\n",
       "      <th>17</th>\n",
       "      <td>0.104249</td>\n",
       "    </tr>\n",
       "    <tr>\n",
       "      <th>32</th>\n",
       "      <td>0.105691</td>\n",
       "    </tr>\n",
       "    <tr>\n",
       "      <th>67</th>\n",
       "      <td>0.107478</td>\n",
       "    </tr>\n",
       "    <tr>\n",
       "      <th>4</th>\n",
       "      <td>0.108183</td>\n",
       "    </tr>\n",
       "    <tr>\n",
       "      <th>72</th>\n",
       "      <td>0.110278</td>\n",
       "    </tr>\n",
       "    <tr>\n",
       "      <th>50</th>\n",
       "      <td>0.110697</td>\n",
       "    </tr>\n",
       "    <tr>\n",
       "      <th>61</th>\n",
       "      <td>0.112751</td>\n",
       "    </tr>\n",
       "    <tr>\n",
       "      <th>43</th>\n",
       "      <td>0.114423</td>\n",
       "    </tr>\n",
       "    <tr>\n",
       "      <th>44</th>\n",
       "      <td>0.115937</td>\n",
       "    </tr>\n",
       "    <tr>\n",
       "      <th>5</th>\n",
       "      <td>0.118133</td>\n",
       "    </tr>\n",
       "    <tr>\n",
       "      <th>60</th>\n",
       "      <td>0.118516</td>\n",
       "    </tr>\n",
       "    <tr>\n",
       "      <th>34</th>\n",
       "      <td>0.118824</td>\n",
       "    </tr>\n",
       "    <tr>\n",
       "      <th>12</th>\n",
       "      <td>0.120527</td>\n",
       "    </tr>\n",
       "    <tr>\n",
       "      <th>52</th>\n",
       "      <td>0.121473</td>\n",
       "    </tr>\n",
       "    <tr>\n",
       "      <th>48</th>\n",
       "      <td>0.121562</td>\n",
       "    </tr>\n",
       "    <tr>\n",
       "      <th>8</th>\n",
       "      <td>0.127172</td>\n",
       "    </tr>\n",
       "    <tr>\n",
       "      <th>3</th>\n",
       "      <td>0.128558</td>\n",
       "    </tr>\n",
       "    <tr>\n",
       "      <th>51</th>\n",
       "      <td>0.129491</td>\n",
       "    </tr>\n",
       "    <tr>\n",
       "      <th>...</th>\n",
       "      <td>...</td>\n",
       "    </tr>\n",
       "    <tr>\n",
       "      <th>31</th>\n",
       "      <td>0.157182</td>\n",
       "    </tr>\n",
       "    <tr>\n",
       "      <th>62</th>\n",
       "      <td>0.158987</td>\n",
       "    </tr>\n",
       "    <tr>\n",
       "      <th>38</th>\n",
       "      <td>0.159835</td>\n",
       "    </tr>\n",
       "    <tr>\n",
       "      <th>22</th>\n",
       "      <td>0.162988</td>\n",
       "    </tr>\n",
       "    <tr>\n",
       "      <th>40</th>\n",
       "      <td>0.165104</td>\n",
       "    </tr>\n",
       "    <tr>\n",
       "      <th>78</th>\n",
       "      <td>0.166567</td>\n",
       "    </tr>\n",
       "    <tr>\n",
       "      <th>33</th>\n",
       "      <td>0.167554</td>\n",
       "    </tr>\n",
       "    <tr>\n",
       "      <th>6</th>\n",
       "      <td>0.168730</td>\n",
       "    </tr>\n",
       "    <tr>\n",
       "      <th>13</th>\n",
       "      <td>0.170753</td>\n",
       "    </tr>\n",
       "    <tr>\n",
       "      <th>46</th>\n",
       "      <td>0.171181</td>\n",
       "    </tr>\n",
       "    <tr>\n",
       "      <th>58</th>\n",
       "      <td>0.171483</td>\n",
       "    </tr>\n",
       "    <tr>\n",
       "      <th>42</th>\n",
       "      <td>0.172086</td>\n",
       "    </tr>\n",
       "    <tr>\n",
       "      <th>73</th>\n",
       "      <td>0.175015</td>\n",
       "    </tr>\n",
       "    <tr>\n",
       "      <th>69</th>\n",
       "      <td>0.175960</td>\n",
       "    </tr>\n",
       "    <tr>\n",
       "      <th>21</th>\n",
       "      <td>0.176365</td>\n",
       "    </tr>\n",
       "    <tr>\n",
       "      <th>24</th>\n",
       "      <td>0.176891</td>\n",
       "    </tr>\n",
       "    <tr>\n",
       "      <th>23</th>\n",
       "      <td>0.177109</td>\n",
       "    </tr>\n",
       "    <tr>\n",
       "      <th>27</th>\n",
       "      <td>0.177261</td>\n",
       "    </tr>\n",
       "    <tr>\n",
       "      <th>1</th>\n",
       "      <td>0.180192</td>\n",
       "    </tr>\n",
       "    <tr>\n",
       "      <th>59</th>\n",
       "      <td>0.181624</td>\n",
       "    </tr>\n",
       "    <tr>\n",
       "      <th>15</th>\n",
       "      <td>0.185361</td>\n",
       "    </tr>\n",
       "    <tr>\n",
       "      <th>77</th>\n",
       "      <td>0.186398</td>\n",
       "    </tr>\n",
       "    <tr>\n",
       "      <th>76</th>\n",
       "      <td>0.190809</td>\n",
       "    </tr>\n",
       "    <tr>\n",
       "      <th>65</th>\n",
       "      <td>0.192039</td>\n",
       "    </tr>\n",
       "    <tr>\n",
       "      <th>7</th>\n",
       "      <td>0.193531</td>\n",
       "    </tr>\n",
       "    <tr>\n",
       "      <th>30</th>\n",
       "      <td>0.197610</td>\n",
       "    </tr>\n",
       "    <tr>\n",
       "      <th>70</th>\n",
       "      <td>0.198020</td>\n",
       "    </tr>\n",
       "    <tr>\n",
       "      <th>37</th>\n",
       "      <td>0.204714</td>\n",
       "    </tr>\n",
       "    <tr>\n",
       "      <th>11</th>\n",
       "      <td>0.207612</td>\n",
       "    </tr>\n",
       "    <tr>\n",
       "      <th>19</th>\n",
       "      <td>0.211691</td>\n",
       "    </tr>\n",
       "  </tbody>\n",
       "</table>\n",
       "<p>80 rows × 1 columns</p>\n",
       "</div>"
      ],
      "text/plain": [
       "    mean_test_score\n",
       "56         0.042671\n",
       "35         0.043184\n",
       "66         0.046082\n",
       "75         0.048349\n",
       "9          0.064405\n",
       "14         0.065286\n",
       "54         0.086679\n",
       "26         0.092470\n",
       "2          0.097362\n",
       "68         0.101589\n",
       "71         0.101850\n",
       "36         0.102239\n",
       "17         0.104249\n",
       "32         0.105691\n",
       "67         0.107478\n",
       "4          0.108183\n",
       "72         0.110278\n",
       "50         0.110697\n",
       "61         0.112751\n",
       "43         0.114423\n",
       "44         0.115937\n",
       "5          0.118133\n",
       "60         0.118516\n",
       "34         0.118824\n",
       "12         0.120527\n",
       "52         0.121473\n",
       "48         0.121562\n",
       "8          0.127172\n",
       "3          0.128558\n",
       "51         0.129491\n",
       "..              ...\n",
       "31         0.157182\n",
       "62         0.158987\n",
       "38         0.159835\n",
       "22         0.162988\n",
       "40         0.165104\n",
       "78         0.166567\n",
       "33         0.167554\n",
       "6          0.168730\n",
       "13         0.170753\n",
       "46         0.171181\n",
       "58         0.171483\n",
       "42         0.172086\n",
       "73         0.175015\n",
       "69         0.175960\n",
       "21         0.176365\n",
       "24         0.176891\n",
       "23         0.177109\n",
       "27         0.177261\n",
       "1          0.180192\n",
       "59         0.181624\n",
       "15         0.185361\n",
       "77         0.186398\n",
       "76         0.190809\n",
       "65         0.192039\n",
       "7          0.193531\n",
       "30         0.197610\n",
       "70         0.198020\n",
       "37         0.204714\n",
       "11         0.207612\n",
       "19         0.211691\n",
       "\n",
       "[80 rows x 1 columns]"
      ]
     },
     "execution_count": 85,
     "metadata": {},
     "output_type": "execute_result"
    }
   ],
   "source": [
    "pd.DataFrame(gs.cv_results_)[['mean_test_score']].sort_values(by='mean_test_score')"
   ]
  },
  {
   "cell_type": "code",
   "execution_count": 205,
   "metadata": {
    "ExecuteTime": {
     "end_time": "2019-11-10T19:47:05.481301Z",
     "start_time": "2019-11-10T19:47:05.053221Z"
    }
   },
   "outputs": [
    {
     "ename": "NameError",
     "evalue": "name 'features_filtered' is not defined",
     "output_type": "error",
     "traceback": [
      "\u001b[0;31m---------------------------------------------------------------------------\u001b[0m",
      "\u001b[0;31mNameError\u001b[0m                                 Traceback (most recent call last)",
      "\u001b[0;32m<ipython-input-205-4daf7363ad98>\u001b[0m in \u001b[0;36m<module>\u001b[0;34m\u001b[0m\n\u001b[0;32m----> 1\u001b[0;31m \u001b[0mfeatures_filtered\u001b[0m\u001b[0;34m\u001b[0m\u001b[0;34m\u001b[0m\u001b[0m\n\u001b[0m",
      "\u001b[0;31mNameError\u001b[0m: name 'features_filtered' is not defined"
     ]
    }
   ],
   "source": [
    "features_filtered"
   ]
  },
  {
   "cell_type": "code",
   "execution_count": null,
   "metadata": {},
   "outputs": [],
   "source": []
  }
 ],
 "metadata": {
  "kernelspec": {
   "display_name": "Python 3",
   "language": "python",
   "name": "python3"
  },
  "language_info": {
   "codemirror_mode": {
    "name": "ipython",
    "version": 3
   },
   "file_extension": ".py",
   "mimetype": "text/x-python",
   "name": "python",
   "nbconvert_exporter": "python",
   "pygments_lexer": "ipython3",
   "version": "3.7.3"
  },
  "toc": {
   "base_numbering": 1,
   "nav_menu": {},
   "number_sections": true,
   "sideBar": true,
   "skip_h1_title": false,
   "title_cell": "Table of Contents",
   "title_sidebar": "Contents",
   "toc_cell": false,
   "toc_position": {},
   "toc_section_display": true,
   "toc_window_display": false
  }
 },
 "nbformat": 4,
 "nbformat_minor": 2
}
